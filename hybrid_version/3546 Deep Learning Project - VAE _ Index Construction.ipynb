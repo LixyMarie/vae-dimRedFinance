{
 "cells": [
  {
   "cell_type": "markdown",
   "metadata": {
    "colab_type": "text",
    "id": "TYvBTnpX1pHi"
   },
   "source": [
    "# 3546 Deep Learning - Term Project: Dimensionality reduction of financial time series and applications using a variational autoencoder\n",
    "\n",
    "# Notebook 2/2: VAE & Index Construction\n",
    "\n",
    "## April 10, 2019\n",
    "## By:\n",
    "* Lagnassa Marie Imokoyende\n",
    "* Humberto Ribeiro de Souza"
   ]
  },
  {
   "cell_type": "markdown",
   "metadata": {
    "colab_type": "text",
    "id": "SzN6ya4K10we"
   },
   "source": [
    "This notebook contains:\n",
    "\n",
    "*   the generation of the simulated data\n",
    "*  the implementation of the VAE model\n",
    "*  the creation of the index."
   ]
  },
  {
   "cell_type": "code",
   "execution_count": 1,
   "metadata": {
    "colab": {
     "base_uri": "https://localhost:8080/",
     "height": 34
    },
    "colab_type": "code",
    "executionInfo": {
     "elapsed": 2141,
     "status": "ok",
     "timestamp": 1554396720485,
     "user": {
      "displayName": "Marie Imokoyende",
      "photoUrl": "",
      "userId": "13592623342127678396"
     },
     "user_tz": 240
    },
    "id": "9wGj-w4BXDEj",
    "outputId": "8c6b3050-9e44-4c94-bdfc-ce3cb51fb2a4"
   },
   "outputs": [
    {
     "name": "stderr",
     "output_type": "stream",
     "text": [
      "Using TensorFlow backend.\n"
     ]
    }
   ],
   "source": [
    "import os\n",
    "import pandas as pd\n",
    "import numpy as np\n",
    "import scipy\n",
    "\n",
    "from keras.layers import Lambda, Input, Dense\n",
    "from keras.models import Model\n",
    "from keras.datasets import mnist\n",
    "from keras.losses import mse, binary_crossentropy\n",
    "from keras.utils import plot_model\n",
    "from keras import backend as K\n",
    "\n",
    "import matplotlib.pyplot as plt\n",
    "import argparse\n",
    "\n",
    "from numpy.random import seed\n",
    "from sklearn.preprocessing import minmax_scale\n",
    "from sklearn.model_selection import train_test_split\n",
    "from keras import losses"
   ]
  },
  {
   "cell_type": "code",
   "execution_count": 2,
   "metadata": {},
   "outputs": [],
   "source": [
    "#Set this variable in the case you are running local.\n",
    "# RUN_LOCAL=0 will point to the Google Drive\n",
    "# RUN_LOCAL=1 assume you are running local or equivalent mounting. \n",
    "#   It assumes that the xlsx files are in the same folder\n",
    "\n",
    "RUN_LOCAL=1\n",
    "PATH_FILES = '.'"
   ]
  },
  {
   "cell_type": "code",
   "execution_count": 3,
   "metadata": {
    "colab": {
     "base_uri": "https://localhost:8080/",
     "height": 122
    },
    "colab_type": "code",
    "executionInfo": {
     "elapsed": 46466,
     "status": "ok",
     "timestamp": 1554396769499,
     "user": {
      "displayName": "Marie Imokoyende",
      "photoUrl": "",
      "userId": "13592623342127678396"
     },
     "user_tz": 240
    },
    "id": "v8euF3kaXY-P",
    "outputId": "15e76d41-9093-40b0-b0e5-0dabc2984c6e"
   },
   "outputs": [],
   "source": [
    "# Use only if needed\n",
    "if RUN_LOCAL==0:\n",
    "    from google.colab import drive\n",
    "    drive.mount('/content/gdrive')"
   ]
  },
  {
   "cell_type": "code",
   "execution_count": 4,
   "metadata": {
    "colab": {
     "base_uri": "https://localhost:8080/",
     "height": 54
    },
    "colab_type": "code",
    "executionInfo": {
     "elapsed": 852,
     "status": "ok",
     "timestamp": 1554396774964,
     "user": {
      "displayName": "Marie Imokoyende",
      "photoUrl": "",
      "userId": "13592623342127678396"
     },
     "user_tz": 240
    },
    "id": "2Sairss5XQOG",
    "outputId": "593bdb28-7b4d-4be4-af08-10c0c00793cf"
   },
   "outputs": [],
   "source": [
    "if RUN_LOCAL==0:\n",
    "    PATH_FILES = '/content/gdrive/My Drive/Datasets/3546 Final Project'\n",
    "    ## We check the access\n",
    "    print(os.listdir(PATH_FILES))\n"
   ]
  },
  {
   "cell_type": "markdown",
   "metadata": {
    "colab_type": "text",
    "id": "xHVJp9OhafMl"
   },
   "source": [
    "# Create the simulated training and test sets"
   ]
  },
  {
   "cell_type": "markdown",
   "metadata": {
    "colab_type": "text",
    "id": "OMi65t5Ul-rt"
   },
   "source": [
    "The geometric moving average dataset only contains data for 423 stocks. We will use stochastic simulation to augment the dataset.\n",
    "\n",
    "The goal is not to model exactly the behavior of the geometric moving average time series of a given stock. We want the model to be trained on time series that are similar to a typical geometric moving average curve but without learning the specificities of the reference stock market dataset."
   ]
  },
  {
   "cell_type": "markdown",
   "metadata": {
    "colab_type": "text",
    "id": "XQotgwzMlG6d"
   },
   "source": [
    "We will first load the geometric moving average created in notebook 1 (*3546 Deep Learning Project - Data Treatment.ipynb*) and then divide the dataset in two time periods of equal length."
   ]
  },
  {
   "cell_type": "markdown",
   "metadata": {
    "colab_type": "text",
    "id": "x5fwQXkFangj"
   },
   "source": [
    "## Import the geometric moving average dataset"
   ]
  },
  {
   "cell_type": "code",
   "execution_count": 5,
   "metadata": {
    "colab": {},
    "colab_type": "code",
    "id": "ZpuuXTWnXXU8"
   },
   "outputs": [],
   "source": [
    "geoMA_5d_stocks = pd.read_excel(PATH_FILES + '/geoMA_5d_stocks.xlsx')\n",
    "geoMA_5d_stocks.dropna(inplace = True)\n",
    "geoMA_5d_stocks_T = geoMA_5d_stocks.T"
   ]
  },
  {
   "cell_type": "code",
   "execution_count": 6,
   "metadata": {
    "colab": {
     "base_uri": "https://localhost:8080/",
     "height": 338
    },
    "colab_type": "code",
    "executionInfo": {
     "elapsed": 463,
     "status": "ok",
     "timestamp": 1554396785855,
     "user": {
      "displayName": "Marie Imokoyende",
      "photoUrl": "",
      "userId": "13592623342127678396"
     },
     "user_tz": 240
    },
    "id": "01emyq3Ca6hc",
    "outputId": "9b940f36-8811-4548-9644-5836c97f07ef"
   },
   "outputs": [
    {
     "data": {
      "text/html": [
       "<div>\n",
       "<style scoped>\n",
       "    .dataframe tbody tr th:only-of-type {\n",
       "        vertical-align: middle;\n",
       "    }\n",
       "\n",
       "    .dataframe tbody tr th {\n",
       "        vertical-align: top;\n",
       "    }\n",
       "\n",
       "    .dataframe thead th {\n",
       "        text-align: right;\n",
       "    }\n",
       "</style>\n",
       "<table border=\"1\" class=\"dataframe\">\n",
       "  <thead>\n",
       "    <tr style=\"text-align: right;\">\n",
       "      <th></th>\n",
       "      <th>ABBD</th>\n",
       "      <th>HGBD</th>\n",
       "      <th>CAFC</th>\n",
       "      <th>DABC</th>\n",
       "      <th>HBCF</th>\n",
       "      <th>EGBD</th>\n",
       "      <th>GHFE</th>\n",
       "      <th>ACFF</th>\n",
       "      <th>DEBG</th>\n",
       "      <th>FAAF</th>\n",
       "      <th>...</th>\n",
       "      <th>CGEG</th>\n",
       "      <th>DFDC</th>\n",
       "      <th>CFHE</th>\n",
       "      <th>GAFE</th>\n",
       "      <th>CEGB</th>\n",
       "      <th>BBBF</th>\n",
       "      <th>FBFA</th>\n",
       "      <th>BAAD</th>\n",
       "      <th>DBHC</th>\n",
       "      <th>CGBB</th>\n",
       "    </tr>\n",
       "  </thead>\n",
       "  <tbody>\n",
       "    <tr>\n",
       "      <th>2016-01-12</th>\n",
       "      <td>0.992338</td>\n",
       "      <td>0.988821</td>\n",
       "      <td>0.989424</td>\n",
       "      <td>0.997762</td>\n",
       "      <td>0.986470</td>\n",
       "      <td>0.984129</td>\n",
       "      <td>0.998091</td>\n",
       "      <td>0.989600</td>\n",
       "      <td>0.993235</td>\n",
       "      <td>0.977558</td>\n",
       "      <td>...</td>\n",
       "      <td>0.998239</td>\n",
       "      <td>0.990540</td>\n",
       "      <td>1.000000</td>\n",
       "      <td>0.997283</td>\n",
       "      <td>1.012098</td>\n",
       "      <td>0.995122</td>\n",
       "      <td>1.002404</td>\n",
       "      <td>0.969215</td>\n",
       "      <td>1.00000</td>\n",
       "      <td>1.0</td>\n",
       "    </tr>\n",
       "    <tr>\n",
       "      <th>2016-01-13</th>\n",
       "      <td>0.996175</td>\n",
       "      <td>0.992179</td>\n",
       "      <td>0.989424</td>\n",
       "      <td>1.000000</td>\n",
       "      <td>0.993441</td>\n",
       "      <td>0.984129</td>\n",
       "      <td>0.995368</td>\n",
       "      <td>0.992397</td>\n",
       "      <td>0.995936</td>\n",
       "      <td>0.983125</td>\n",
       "      <td>...</td>\n",
       "      <td>1.000000</td>\n",
       "      <td>0.998687</td>\n",
       "      <td>1.000000</td>\n",
       "      <td>0.994871</td>\n",
       "      <td>1.006491</td>\n",
       "      <td>0.986229</td>\n",
       "      <td>1.000000</td>\n",
       "      <td>1.000000</td>\n",
       "      <td>1.00000</td>\n",
       "      <td>1.0</td>\n",
       "    </tr>\n",
       "    <tr>\n",
       "      <th>2016-01-14</th>\n",
       "      <td>0.992404</td>\n",
       "      <td>0.993299</td>\n",
       "      <td>0.986959</td>\n",
       "      <td>0.992476</td>\n",
       "      <td>0.989088</td>\n",
       "      <td>0.981743</td>\n",
       "      <td>0.995041</td>\n",
       "      <td>0.992397</td>\n",
       "      <td>0.993604</td>\n",
       "      <td>0.981993</td>\n",
       "      <td>...</td>\n",
       "      <td>1.009148</td>\n",
       "      <td>1.000872</td>\n",
       "      <td>0.982598</td>\n",
       "      <td>0.985433</td>\n",
       "      <td>1.002618</td>\n",
       "      <td>0.984764</td>\n",
       "      <td>0.992735</td>\n",
       "      <td>1.000000</td>\n",
       "      <td>1.00000</td>\n",
       "      <td>1.0</td>\n",
       "    </tr>\n",
       "    <tr>\n",
       "      <th>2016-01-15</th>\n",
       "      <td>1.002007</td>\n",
       "      <td>1.005394</td>\n",
       "      <td>0.986959</td>\n",
       "      <td>0.996006</td>\n",
       "      <td>0.996686</td>\n",
       "      <td>0.991347</td>\n",
       "      <td>0.996768</td>\n",
       "      <td>1.004218</td>\n",
       "      <td>1.000705</td>\n",
       "      <td>0.982737</td>\n",
       "      <td>...</td>\n",
       "      <td>1.013850</td>\n",
       "      <td>1.016067</td>\n",
       "      <td>0.981118</td>\n",
       "      <td>0.983524</td>\n",
       "      <td>0.994219</td>\n",
       "      <td>0.965292</td>\n",
       "      <td>0.995074</td>\n",
       "      <td>0.954877</td>\n",
       "      <td>0.95483</td>\n",
       "      <td>1.0</td>\n",
       "    </tr>\n",
       "    <tr>\n",
       "      <th>2016-01-18</th>\n",
       "      <td>0.994636</td>\n",
       "      <td>0.997212</td>\n",
       "      <td>0.985798</td>\n",
       "      <td>0.996006</td>\n",
       "      <td>0.996686</td>\n",
       "      <td>0.989739</td>\n",
       "      <td>0.995659</td>\n",
       "      <td>1.004676</td>\n",
       "      <td>0.994490</td>\n",
       "      <td>0.986638</td>\n",
       "      <td>...</td>\n",
       "      <td>0.999386</td>\n",
       "      <td>1.013834</td>\n",
       "      <td>0.977525</td>\n",
       "      <td>0.981752</td>\n",
       "      <td>0.985247</td>\n",
       "      <td>0.966094</td>\n",
       "      <td>0.984744</td>\n",
       "      <td>0.954877</td>\n",
       "      <td>0.95483</td>\n",
       "      <td>1.0</td>\n",
       "    </tr>\n",
       "  </tbody>\n",
       "</table>\n",
       "<p>5 rows × 423 columns</p>\n",
       "</div>"
      ],
      "text/plain": [
       "                ABBD      HGBD      CAFC      DABC      HBCF      EGBD  \\\n",
       "2016-01-12  0.992338  0.988821  0.989424  0.997762  0.986470  0.984129   \n",
       "2016-01-13  0.996175  0.992179  0.989424  1.000000  0.993441  0.984129   \n",
       "2016-01-14  0.992404  0.993299  0.986959  0.992476  0.989088  0.981743   \n",
       "2016-01-15  1.002007  1.005394  0.986959  0.996006  0.996686  0.991347   \n",
       "2016-01-18  0.994636  0.997212  0.985798  0.996006  0.996686  0.989739   \n",
       "\n",
       "                GHFE      ACFF      DEBG      FAAF  ...       CGEG      DFDC  \\\n",
       "2016-01-12  0.998091  0.989600  0.993235  0.977558  ...   0.998239  0.990540   \n",
       "2016-01-13  0.995368  0.992397  0.995936  0.983125  ...   1.000000  0.998687   \n",
       "2016-01-14  0.995041  0.992397  0.993604  0.981993  ...   1.009148  1.000872   \n",
       "2016-01-15  0.996768  1.004218  1.000705  0.982737  ...   1.013850  1.016067   \n",
       "2016-01-18  0.995659  1.004676  0.994490  0.986638  ...   0.999386  1.013834   \n",
       "\n",
       "                CFHE      GAFE      CEGB      BBBF      FBFA      BAAD  \\\n",
       "2016-01-12  1.000000  0.997283  1.012098  0.995122  1.002404  0.969215   \n",
       "2016-01-13  1.000000  0.994871  1.006491  0.986229  1.000000  1.000000   \n",
       "2016-01-14  0.982598  0.985433  1.002618  0.984764  0.992735  1.000000   \n",
       "2016-01-15  0.981118  0.983524  0.994219  0.965292  0.995074  0.954877   \n",
       "2016-01-18  0.977525  0.981752  0.985247  0.966094  0.984744  0.954877   \n",
       "\n",
       "               DBHC  CGBB  \n",
       "2016-01-12  1.00000   1.0  \n",
       "2016-01-13  1.00000   1.0  \n",
       "2016-01-14  1.00000   1.0  \n",
       "2016-01-15  0.95483   1.0  \n",
       "2016-01-18  0.95483   1.0  \n",
       "\n",
       "[5 rows x 423 columns]"
      ]
     },
     "execution_count": 6,
     "metadata": {},
     "output_type": "execute_result"
    }
   ],
   "source": [
    "geoMA_5d_stocks.head()"
   ]
  },
  {
   "cell_type": "markdown",
   "metadata": {
    "colab_type": "text",
    "id": "Kn-NYBoQYN3P"
   },
   "source": [
    "We transpose the dataset to have one stock per line."
   ]
  },
  {
   "cell_type": "code",
   "execution_count": 7,
   "metadata": {
    "colab": {
     "base_uri": "https://localhost:8080/",
     "height": 287
    },
    "colab_type": "code",
    "executionInfo": {
     "elapsed": 269,
     "status": "ok",
     "timestamp": 1554396788036,
     "user": {
      "displayName": "Marie Imokoyende",
      "photoUrl": "",
      "userId": "13592623342127678396"
     },
     "user_tz": 240
    },
    "id": "FsZkH6AUa9XU",
    "outputId": "d1a8e075-7511-4fa2-b5af-5cc0f23c0237"
   },
   "outputs": [
    {
     "data": {
      "text/html": [
       "<div>\n",
       "<style scoped>\n",
       "    .dataframe tbody tr th:only-of-type {\n",
       "        vertical-align: middle;\n",
       "    }\n",
       "\n",
       "    .dataframe tbody tr th {\n",
       "        vertical-align: top;\n",
       "    }\n",
       "\n",
       "    .dataframe thead th {\n",
       "        text-align: right;\n",
       "    }\n",
       "</style>\n",
       "<table border=\"1\" class=\"dataframe\">\n",
       "  <thead>\n",
       "    <tr style=\"text-align: right;\">\n",
       "      <th></th>\n",
       "      <th>2016-01-12 00:00:00</th>\n",
       "      <th>2016-01-13 00:00:00</th>\n",
       "      <th>2016-01-14 00:00:00</th>\n",
       "      <th>2016-01-15 00:00:00</th>\n",
       "      <th>2016-01-18 00:00:00</th>\n",
       "      <th>2016-01-19 00:00:00</th>\n",
       "      <th>2016-01-20 00:00:00</th>\n",
       "      <th>2016-01-21 00:00:00</th>\n",
       "      <th>2016-01-22 00:00:00</th>\n",
       "      <th>2016-01-26 00:00:00</th>\n",
       "      <th>...</th>\n",
       "      <th>2019-02-15 00:00:00</th>\n",
       "      <th>2019-02-19 00:00:00</th>\n",
       "      <th>2019-02-20 00:00:00</th>\n",
       "      <th>2019-02-21 00:00:00</th>\n",
       "      <th>2019-02-22 00:00:00</th>\n",
       "      <th>2019-02-25 00:00:00</th>\n",
       "      <th>2019-02-26 00:00:00</th>\n",
       "      <th>2019-02-27 00:00:00</th>\n",
       "      <th>2019-02-28 00:00:00</th>\n",
       "      <th>2019-03-01 00:00:00</th>\n",
       "    </tr>\n",
       "  </thead>\n",
       "  <tbody>\n",
       "    <tr>\n",
       "      <th>ABBD</th>\n",
       "      <td>0.992338</td>\n",
       "      <td>0.996175</td>\n",
       "      <td>0.992404</td>\n",
       "      <td>1.002007</td>\n",
       "      <td>0.994636</td>\n",
       "      <td>0.996557</td>\n",
       "      <td>0.993036</td>\n",
       "      <td>0.995753</td>\n",
       "      <td>0.999325</td>\n",
       "      <td>1.008587</td>\n",
       "      <td>...</td>\n",
       "      <td>1.005679</td>\n",
       "      <td>1.006413</td>\n",
       "      <td>1.003681</td>\n",
       "      <td>1.003549</td>\n",
       "      <td>1.004117</td>\n",
       "      <td>1.005864</td>\n",
       "      <td>1.007282</td>\n",
       "      <td>1.009354</td>\n",
       "      <td>1.008312</td>\n",
       "      <td>1.005137</td>\n",
       "    </tr>\n",
       "    <tr>\n",
       "      <th>HGBD</th>\n",
       "      <td>0.988821</td>\n",
       "      <td>0.992179</td>\n",
       "      <td>0.993299</td>\n",
       "      <td>1.005394</td>\n",
       "      <td>0.997212</td>\n",
       "      <td>0.996710</td>\n",
       "      <td>0.994502</td>\n",
       "      <td>0.995945</td>\n",
       "      <td>1.001632</td>\n",
       "      <td>1.009282</td>\n",
       "      <td>...</td>\n",
       "      <td>1.000568</td>\n",
       "      <td>0.996890</td>\n",
       "      <td>0.999371</td>\n",
       "      <td>1.003462</td>\n",
       "      <td>0.999844</td>\n",
       "      <td>1.002008</td>\n",
       "      <td>1.008411</td>\n",
       "      <td>1.005487</td>\n",
       "      <td>1.002788</td>\n",
       "      <td>1.003042</td>\n",
       "    </tr>\n",
       "    <tr>\n",
       "      <th>CAFC</th>\n",
       "      <td>0.989424</td>\n",
       "      <td>0.989424</td>\n",
       "      <td>0.986959</td>\n",
       "      <td>0.986959</td>\n",
       "      <td>0.985798</td>\n",
       "      <td>0.989711</td>\n",
       "      <td>0.989711</td>\n",
       "      <td>0.992182</td>\n",
       "      <td>1.001060</td>\n",
       "      <td>1.008947</td>\n",
       "      <td>...</td>\n",
       "      <td>1.004808</td>\n",
       "      <td>1.000743</td>\n",
       "      <td>1.003657</td>\n",
       "      <td>1.003657</td>\n",
       "      <td>0.996627</td>\n",
       "      <td>0.998635</td>\n",
       "      <td>1.003489</td>\n",
       "      <td>1.000655</td>\n",
       "      <td>1.000655</td>\n",
       "      <td>1.000000</td>\n",
       "    </tr>\n",
       "    <tr>\n",
       "      <th>DABC</th>\n",
       "      <td>0.997762</td>\n",
       "      <td>1.000000</td>\n",
       "      <td>0.992476</td>\n",
       "      <td>0.996006</td>\n",
       "      <td>0.996006</td>\n",
       "      <td>0.996006</td>\n",
       "      <td>0.995882</td>\n",
       "      <td>1.003431</td>\n",
       "      <td>0.999876</td>\n",
       "      <td>0.999876</td>\n",
       "      <td>...</td>\n",
       "      <td>1.000414</td>\n",
       "      <td>1.000629</td>\n",
       "      <td>1.000630</td>\n",
       "      <td>1.000630</td>\n",
       "      <td>0.998195</td>\n",
       "      <td>0.998884</td>\n",
       "      <td>0.998965</td>\n",
       "      <td>0.997960</td>\n",
       "      <td>0.997960</td>\n",
       "      <td>0.997639</td>\n",
       "    </tr>\n",
       "    <tr>\n",
       "      <th>HBCF</th>\n",
       "      <td>0.986470</td>\n",
       "      <td>0.993441</td>\n",
       "      <td>0.989088</td>\n",
       "      <td>0.996686</td>\n",
       "      <td>0.996686</td>\n",
       "      <td>1.000857</td>\n",
       "      <td>0.991468</td>\n",
       "      <td>0.992309</td>\n",
       "      <td>1.003376</td>\n",
       "      <td>1.003376</td>\n",
       "      <td>...</td>\n",
       "      <td>0.996091</td>\n",
       "      <td>0.989444</td>\n",
       "      <td>0.995508</td>\n",
       "      <td>0.997061</td>\n",
       "      <td>0.992744</td>\n",
       "      <td>0.993557</td>\n",
       "      <td>1.005934</td>\n",
       "      <td>1.007272</td>\n",
       "      <td>1.006421</td>\n",
       "      <td>1.008839</td>\n",
       "    </tr>\n",
       "  </tbody>\n",
       "</table>\n",
       "<p>5 rows × 776 columns</p>\n",
       "</div>"
      ],
      "text/plain": [
       "      2016-01-12  2016-01-13  2016-01-14  2016-01-15  2016-01-18  2016-01-19  \\\n",
       "ABBD    0.992338    0.996175    0.992404    1.002007    0.994636    0.996557   \n",
       "HGBD    0.988821    0.992179    0.993299    1.005394    0.997212    0.996710   \n",
       "CAFC    0.989424    0.989424    0.986959    0.986959    0.985798    0.989711   \n",
       "DABC    0.997762    1.000000    0.992476    0.996006    0.996006    0.996006   \n",
       "HBCF    0.986470    0.993441    0.989088    0.996686    0.996686    1.000857   \n",
       "\n",
       "      2016-01-20  2016-01-21  2016-01-22  2016-01-26     ...      2019-02-15  \\\n",
       "ABBD    0.993036    0.995753    0.999325    1.008587     ...        1.005679   \n",
       "HGBD    0.994502    0.995945    1.001632    1.009282     ...        1.000568   \n",
       "CAFC    0.989711    0.992182    1.001060    1.008947     ...        1.004808   \n",
       "DABC    0.995882    1.003431    0.999876    0.999876     ...        1.000414   \n",
       "HBCF    0.991468    0.992309    1.003376    1.003376     ...        0.996091   \n",
       "\n",
       "      2019-02-19  2019-02-20  2019-02-21  2019-02-22  2019-02-25  2019-02-26  \\\n",
       "ABBD    1.006413    1.003681    1.003549    1.004117    1.005864    1.007282   \n",
       "HGBD    0.996890    0.999371    1.003462    0.999844    1.002008    1.008411   \n",
       "CAFC    1.000743    1.003657    1.003657    0.996627    0.998635    1.003489   \n",
       "DABC    1.000629    1.000630    1.000630    0.998195    0.998884    0.998965   \n",
       "HBCF    0.989444    0.995508    0.997061    0.992744    0.993557    1.005934   \n",
       "\n",
       "      2019-02-27  2019-02-28  2019-03-01  \n",
       "ABBD    1.009354    1.008312    1.005137  \n",
       "HGBD    1.005487    1.002788    1.003042  \n",
       "CAFC    1.000655    1.000655    1.000000  \n",
       "DABC    0.997960    0.997960    0.997639  \n",
       "HBCF    1.007272    1.006421    1.008839  \n",
       "\n",
       "[5 rows x 776 columns]"
      ]
     },
     "execution_count": 7,
     "metadata": {},
     "output_type": "execute_result"
    }
   ],
   "source": [
    "geoMA_5d_stocks_T.head()"
   ]
  },
  {
   "cell_type": "markdown",
   "metadata": {
    "colab_type": "text",
    "id": "IVTw94hjbWeb"
   },
   "source": [
    "### Divide in two time periods"
   ]
  },
  {
   "cell_type": "code",
   "execution_count": 8,
   "metadata": {
    "colab": {
     "base_uri": "https://localhost:8080/",
     "height": 34
    },
    "colab_type": "code",
    "executionInfo": {
     "elapsed": 312,
     "status": "ok",
     "timestamp": 1554396792894,
     "user": {
      "displayName": "Marie Imokoyende",
      "photoUrl": "",
      "userId": "13592623342127678396"
     },
     "user_tz": 240
    },
    "id": "CQrd8sz4bDr4",
    "outputId": "6788cf89-c38e-4de4-dc81-558e67b61d5a"
   },
   "outputs": [
    {
     "data": {
      "text/plain": [
       "388.0"
      ]
     },
     "execution_count": 8,
     "metadata": {},
     "output_type": "execute_result"
    }
   ],
   "source": [
    "len(geoMA_5d_stocks)/2"
   ]
  },
  {
   "cell_type": "code",
   "execution_count": 9,
   "metadata": {
    "colab": {},
    "colab_type": "code",
    "id": "pSC9iMiLbbke"
   },
   "outputs": [],
   "source": [
    "geoMA_5d_stocks_p1 = geoMA_5d_stocks.head(int(len(geoMA_5d_stocks)/2))\n",
    "geoMA_5d_stocks_p2 = geoMA_5d_stocks.tail(int(len(geoMA_5d_stocks)/2))"
   ]
  },
  {
   "cell_type": "code",
   "execution_count": 10,
   "metadata": {
    "colab": {
     "base_uri": "https://localhost:8080/",
     "height": 51
    },
    "colab_type": "code",
    "executionInfo": {
     "elapsed": 264,
     "status": "ok",
     "timestamp": 1554396795265,
     "user": {
      "displayName": "Marie Imokoyende",
      "photoUrl": "",
      "userId": "13592623342127678396"
     },
     "user_tz": 240
    },
    "id": "L8ai4Ig7bxKb",
    "outputId": "5d41ed61-72df-4d0b-c676-15a09a6480af"
   },
   "outputs": [
    {
     "name": "stdout",
     "output_type": "stream",
     "text": [
      "len(geoMA_5d_stocks_p1) = 388\n",
      "len(geoMA_5d_stocks_p2) = 388\n"
     ]
    }
   ],
   "source": [
    "print('len(geoMA_5d_stocks_p1) =', len(geoMA_5d_stocks_p1))\n",
    "print('len(geoMA_5d_stocks_p2) =', len(geoMA_5d_stocks_p2))"
   ]
  },
  {
   "cell_type": "markdown",
   "metadata": {
    "colab_type": "text",
    "id": "GXKqe8OZeKF1"
   },
   "source": [
    "#### Verification"
   ]
  },
  {
   "cell_type": "code",
   "execution_count": 11,
   "metadata": {
    "colab": {
     "base_uri": "https://localhost:8080/",
     "height": 338
    },
    "colab_type": "code",
    "executionInfo": {
     "elapsed": 645,
     "status": "ok",
     "timestamp": 1554396800215,
     "user": {
      "displayName": "Marie Imokoyende",
      "photoUrl": "",
      "userId": "13592623342127678396"
     },
     "user_tz": 240
    },
    "id": "-e_zGxFxb4kF",
    "outputId": "776c2ae2-2db6-4a61-c03f-c01bbd07604d"
   },
   "outputs": [
    {
     "data": {
      "text/html": [
       "<div>\n",
       "<style scoped>\n",
       "    .dataframe tbody tr th:only-of-type {\n",
       "        vertical-align: middle;\n",
       "    }\n",
       "\n",
       "    .dataframe tbody tr th {\n",
       "        vertical-align: top;\n",
       "    }\n",
       "\n",
       "    .dataframe thead th {\n",
       "        text-align: right;\n",
       "    }\n",
       "</style>\n",
       "<table border=\"1\" class=\"dataframe\">\n",
       "  <thead>\n",
       "    <tr style=\"text-align: right;\">\n",
       "      <th></th>\n",
       "      <th>ABBD</th>\n",
       "      <th>HGBD</th>\n",
       "      <th>CAFC</th>\n",
       "      <th>DABC</th>\n",
       "      <th>HBCF</th>\n",
       "      <th>EGBD</th>\n",
       "      <th>GHFE</th>\n",
       "      <th>ACFF</th>\n",
       "      <th>DEBG</th>\n",
       "      <th>FAAF</th>\n",
       "      <th>...</th>\n",
       "      <th>CGEG</th>\n",
       "      <th>DFDC</th>\n",
       "      <th>CFHE</th>\n",
       "      <th>GAFE</th>\n",
       "      <th>CEGB</th>\n",
       "      <th>BBBF</th>\n",
       "      <th>FBFA</th>\n",
       "      <th>BAAD</th>\n",
       "      <th>DBHC</th>\n",
       "      <th>CGBB</th>\n",
       "    </tr>\n",
       "  </thead>\n",
       "  <tbody>\n",
       "    <tr>\n",
       "      <th>2017-07-31</th>\n",
       "      <td>0.998172</td>\n",
       "      <td>0.998562</td>\n",
       "      <td>1.002159</td>\n",
       "      <td>1.000000</td>\n",
       "      <td>1.003872</td>\n",
       "      <td>1.001689</td>\n",
       "      <td>0.993497</td>\n",
       "      <td>0.997808</td>\n",
       "      <td>1.001285</td>\n",
       "      <td>1.002584</td>\n",
       "      <td>...</td>\n",
       "      <td>0.998951</td>\n",
       "      <td>1.005164</td>\n",
       "      <td>0.998917</td>\n",
       "      <td>0.999300</td>\n",
       "      <td>1.000440</td>\n",
       "      <td>1.019369</td>\n",
       "      <td>1.019245</td>\n",
       "      <td>1.002841</td>\n",
       "      <td>0.983524</td>\n",
       "      <td>1.0</td>\n",
       "    </tr>\n",
       "    <tr>\n",
       "      <th>2017-08-01</th>\n",
       "      <td>0.996823</td>\n",
       "      <td>0.993613</td>\n",
       "      <td>0.997673</td>\n",
       "      <td>1.003090</td>\n",
       "      <td>1.002733</td>\n",
       "      <td>0.998679</td>\n",
       "      <td>0.996245</td>\n",
       "      <td>0.999049</td>\n",
       "      <td>0.999669</td>\n",
       "      <td>0.999894</td>\n",
       "      <td>...</td>\n",
       "      <td>1.000707</td>\n",
       "      <td>1.000339</td>\n",
       "      <td>0.996753</td>\n",
       "      <td>1.000000</td>\n",
       "      <td>1.003960</td>\n",
       "      <td>0.988092</td>\n",
       "      <td>1.015057</td>\n",
       "      <td>1.004982</td>\n",
       "      <td>0.999846</td>\n",
       "      <td>1.0</td>\n",
       "    </tr>\n",
       "    <tr>\n",
       "      <th>2017-08-02</th>\n",
       "      <td>0.993745</td>\n",
       "      <td>0.994855</td>\n",
       "      <td>0.988318</td>\n",
       "      <td>1.001590</td>\n",
       "      <td>1.002438</td>\n",
       "      <td>0.996904</td>\n",
       "      <td>0.998682</td>\n",
       "      <td>0.999049</td>\n",
       "      <td>0.999192</td>\n",
       "      <td>0.994799</td>\n",
       "      <td>...</td>\n",
       "      <td>0.997836</td>\n",
       "      <td>0.993220</td>\n",
       "      <td>0.995614</td>\n",
       "      <td>0.998804</td>\n",
       "      <td>1.006727</td>\n",
       "      <td>0.986629</td>\n",
       "      <td>1.011829</td>\n",
       "      <td>1.001699</td>\n",
       "      <td>0.996020</td>\n",
       "      <td>1.0</td>\n",
       "    </tr>\n",
       "    <tr>\n",
       "      <th>2017-08-03</th>\n",
       "      <td>0.993626</td>\n",
       "      <td>1.004711</td>\n",
       "      <td>0.988512</td>\n",
       "      <td>1.004182</td>\n",
       "      <td>1.001161</td>\n",
       "      <td>0.999502</td>\n",
       "      <td>1.001007</td>\n",
       "      <td>0.998863</td>\n",
       "      <td>0.999523</td>\n",
       "      <td>1.001984</td>\n",
       "      <td>...</td>\n",
       "      <td>0.995700</td>\n",
       "      <td>1.001718</td>\n",
       "      <td>0.994505</td>\n",
       "      <td>0.999100</td>\n",
       "      <td>0.999564</td>\n",
       "      <td>0.992664</td>\n",
       "      <td>1.013437</td>\n",
       "      <td>1.000000</td>\n",
       "      <td>0.996323</td>\n",
       "      <td>1.0</td>\n",
       "    </tr>\n",
       "    <tr>\n",
       "      <th>2017-08-04</th>\n",
       "      <td>0.994796</td>\n",
       "      <td>1.004196</td>\n",
       "      <td>0.986593</td>\n",
       "      <td>1.004182</td>\n",
       "      <td>1.002233</td>\n",
       "      <td>0.999158</td>\n",
       "      <td>1.000465</td>\n",
       "      <td>0.996571</td>\n",
       "      <td>0.999854</td>\n",
       "      <td>0.998132</td>\n",
       "      <td>...</td>\n",
       "      <td>0.991149</td>\n",
       "      <td>1.000338</td>\n",
       "      <td>0.994505</td>\n",
       "      <td>1.001957</td>\n",
       "      <td>0.996918</td>\n",
       "      <td>0.993710</td>\n",
       "      <td>1.012117</td>\n",
       "      <td>1.013800</td>\n",
       "      <td>1.018670</td>\n",
       "      <td>1.0</td>\n",
       "    </tr>\n",
       "  </tbody>\n",
       "</table>\n",
       "<p>5 rows × 423 columns</p>\n",
       "</div>"
      ],
      "text/plain": [
       "                ABBD      HGBD      CAFC      DABC      HBCF      EGBD  \\\n",
       "2017-07-31  0.998172  0.998562  1.002159  1.000000  1.003872  1.001689   \n",
       "2017-08-01  0.996823  0.993613  0.997673  1.003090  1.002733  0.998679   \n",
       "2017-08-02  0.993745  0.994855  0.988318  1.001590  1.002438  0.996904   \n",
       "2017-08-03  0.993626  1.004711  0.988512  1.004182  1.001161  0.999502   \n",
       "2017-08-04  0.994796  1.004196  0.986593  1.004182  1.002233  0.999158   \n",
       "\n",
       "                GHFE      ACFF      DEBG      FAAF  ...       CGEG      DFDC  \\\n",
       "2017-07-31  0.993497  0.997808  1.001285  1.002584  ...   0.998951  1.005164   \n",
       "2017-08-01  0.996245  0.999049  0.999669  0.999894  ...   1.000707  1.000339   \n",
       "2017-08-02  0.998682  0.999049  0.999192  0.994799  ...   0.997836  0.993220   \n",
       "2017-08-03  1.001007  0.998863  0.999523  1.001984  ...   0.995700  1.001718   \n",
       "2017-08-04  1.000465  0.996571  0.999854  0.998132  ...   0.991149  1.000338   \n",
       "\n",
       "                CFHE      GAFE      CEGB      BBBF      FBFA      BAAD  \\\n",
       "2017-07-31  0.998917  0.999300  1.000440  1.019369  1.019245  1.002841   \n",
       "2017-08-01  0.996753  1.000000  1.003960  0.988092  1.015057  1.004982   \n",
       "2017-08-02  0.995614  0.998804  1.006727  0.986629  1.011829  1.001699   \n",
       "2017-08-03  0.994505  0.999100  0.999564  0.992664  1.013437  1.000000   \n",
       "2017-08-04  0.994505  1.001957  0.996918  0.993710  1.012117  1.013800   \n",
       "\n",
       "                DBHC  CGBB  \n",
       "2017-07-31  0.983524   1.0  \n",
       "2017-08-01  0.999846   1.0  \n",
       "2017-08-02  0.996020   1.0  \n",
       "2017-08-03  0.996323   1.0  \n",
       "2017-08-04  1.018670   1.0  \n",
       "\n",
       "[5 rows x 423 columns]"
      ]
     },
     "execution_count": 11,
     "metadata": {},
     "output_type": "execute_result"
    }
   ],
   "source": [
    "geoMA_5d_stocks_p1.tail()"
   ]
  },
  {
   "cell_type": "code",
   "execution_count": 12,
   "metadata": {
    "colab": {
     "base_uri": "https://localhost:8080/",
     "height": 338
    },
    "colab_type": "code",
    "executionInfo": {
     "elapsed": 428,
     "status": "ok",
     "timestamp": 1554396805990,
     "user": {
      "displayName": "Marie Imokoyende",
      "photoUrl": "",
      "userId": "13592623342127678396"
     },
     "user_tz": 240
    },
    "id": "j_tlLhWpeSAW",
    "outputId": "fae01360-4856-4f42-fad5-5141b99d69e1"
   },
   "outputs": [
    {
     "data": {
      "text/html": [
       "<div>\n",
       "<style scoped>\n",
       "    .dataframe tbody tr th:only-of-type {\n",
       "        vertical-align: middle;\n",
       "    }\n",
       "\n",
       "    .dataframe tbody tr th {\n",
       "        vertical-align: top;\n",
       "    }\n",
       "\n",
       "    .dataframe thead th {\n",
       "        text-align: right;\n",
       "    }\n",
       "</style>\n",
       "<table border=\"1\" class=\"dataframe\">\n",
       "  <thead>\n",
       "    <tr style=\"text-align: right;\">\n",
       "      <th></th>\n",
       "      <th>ABBD</th>\n",
       "      <th>HGBD</th>\n",
       "      <th>CAFC</th>\n",
       "      <th>DABC</th>\n",
       "      <th>HBCF</th>\n",
       "      <th>EGBD</th>\n",
       "      <th>GHFE</th>\n",
       "      <th>ACFF</th>\n",
       "      <th>DEBG</th>\n",
       "      <th>FAAF</th>\n",
       "      <th>...</th>\n",
       "      <th>CGEG</th>\n",
       "      <th>DFDC</th>\n",
       "      <th>CFHE</th>\n",
       "      <th>GAFE</th>\n",
       "      <th>CEGB</th>\n",
       "      <th>BBBF</th>\n",
       "      <th>FBFA</th>\n",
       "      <th>BAAD</th>\n",
       "      <th>DBHC</th>\n",
       "      <th>CGBB</th>\n",
       "    </tr>\n",
       "  </thead>\n",
       "  <tbody>\n",
       "    <tr>\n",
       "      <th>2017-08-07</th>\n",
       "      <td>0.997970</td>\n",
       "      <td>1.008191</td>\n",
       "      <td>0.990939</td>\n",
       "      <td>1.004182</td>\n",
       "      <td>1.001853</td>\n",
       "      <td>1.004277</td>\n",
       "      <td>1.000722</td>\n",
       "      <td>1.001180</td>\n",
       "      <td>0.999854</td>\n",
       "      <td>1.007294</td>\n",
       "      <td>...</td>\n",
       "      <td>0.991433</td>\n",
       "      <td>1.013848</td>\n",
       "      <td>0.994505</td>\n",
       "      <td>1.003346</td>\n",
       "      <td>0.999119</td>\n",
       "      <td>0.990048</td>\n",
       "      <td>1.005814</td>\n",
       "      <td>1.031725</td>\n",
       "      <td>1.040652</td>\n",
       "      <td>1.0</td>\n",
       "    </tr>\n",
       "    <tr>\n",
       "      <th>2017-08-08</th>\n",
       "      <td>0.998793</td>\n",
       "      <td>1.012777</td>\n",
       "      <td>0.990750</td>\n",
       "      <td>1.001812</td>\n",
       "      <td>1.002667</td>\n",
       "      <td>1.003673</td>\n",
       "      <td>1.000807</td>\n",
       "      <td>0.999363</td>\n",
       "      <td>1.000845</td>\n",
       "      <td>1.005171</td>\n",
       "      <td>...</td>\n",
       "      <td>0.995372</td>\n",
       "      <td>1.022677</td>\n",
       "      <td>1.007536</td>\n",
       "      <td>1.004865</td>\n",
       "      <td>1.002165</td>\n",
       "      <td>0.992480</td>\n",
       "      <td>1.005277</td>\n",
       "      <td>1.031352</td>\n",
       "      <td>1.037563</td>\n",
       "      <td>1.0</td>\n",
       "    </tr>\n",
       "    <tr>\n",
       "      <th>2017-08-09</th>\n",
       "      <td>1.000413</td>\n",
       "      <td>1.012916</td>\n",
       "      <td>0.999225</td>\n",
       "      <td>1.001952</td>\n",
       "      <td>1.003530</td>\n",
       "      <td>1.004440</td>\n",
       "      <td>0.998746</td>\n",
       "      <td>0.999204</td>\n",
       "      <td>1.001324</td>\n",
       "      <td>1.004739</td>\n",
       "      <td>...</td>\n",
       "      <td>1.005031</td>\n",
       "      <td>1.036058</td>\n",
       "      <td>1.008735</td>\n",
       "      <td>1.003992</td>\n",
       "      <td>1.004789</td>\n",
       "      <td>0.998731</td>\n",
       "      <td>1.001852</td>\n",
       "      <td>1.032346</td>\n",
       "      <td>1.038579</td>\n",
       "      <td>1.0</td>\n",
       "    </tr>\n",
       "    <tr>\n",
       "      <th>2017-08-10</th>\n",
       "      <td>1.002057</td>\n",
       "      <td>1.005593</td>\n",
       "      <td>0.999121</td>\n",
       "      <td>0.999366</td>\n",
       "      <td>1.004809</td>\n",
       "      <td>1.004760</td>\n",
       "      <td>1.002279</td>\n",
       "      <td>1.000980</td>\n",
       "      <td>1.000992</td>\n",
       "      <td>1.002299</td>\n",
       "      <td>...</td>\n",
       "      <td>1.003246</td>\n",
       "      <td>1.028117</td>\n",
       "      <td>1.003330</td>\n",
       "      <td>1.002999</td>\n",
       "      <td>1.009007</td>\n",
       "      <td>1.002488</td>\n",
       "      <td>1.002360</td>\n",
       "      <td>1.034426</td>\n",
       "      <td>1.038579</td>\n",
       "      <td>1.0</td>\n",
       "    </tr>\n",
       "    <tr>\n",
       "      <th>2017-08-11</th>\n",
       "      <td>1.002968</td>\n",
       "      <td>1.003180</td>\n",
       "      <td>0.999902</td>\n",
       "      <td>1.003198</td>\n",
       "      <td>1.000718</td>\n",
       "      <td>1.003039</td>\n",
       "      <td>1.003869</td>\n",
       "      <td>0.999936</td>\n",
       "      <td>1.000992</td>\n",
       "      <td>1.003573</td>\n",
       "      <td>...</td>\n",
       "      <td>1.003610</td>\n",
       "      <td>1.026242</td>\n",
       "      <td>1.002225</td>\n",
       "      <td>0.999722</td>\n",
       "      <td>1.014674</td>\n",
       "      <td>0.997423</td>\n",
       "      <td>1.006664</td>\n",
       "      <td>1.012662</td>\n",
       "      <td>1.011735</td>\n",
       "      <td>1.0</td>\n",
       "    </tr>\n",
       "  </tbody>\n",
       "</table>\n",
       "<p>5 rows × 423 columns</p>\n",
       "</div>"
      ],
      "text/plain": [
       "                ABBD      HGBD      CAFC      DABC      HBCF      EGBD  \\\n",
       "2017-08-07  0.997970  1.008191  0.990939  1.004182  1.001853  1.004277   \n",
       "2017-08-08  0.998793  1.012777  0.990750  1.001812  1.002667  1.003673   \n",
       "2017-08-09  1.000413  1.012916  0.999225  1.001952  1.003530  1.004440   \n",
       "2017-08-10  1.002057  1.005593  0.999121  0.999366  1.004809  1.004760   \n",
       "2017-08-11  1.002968  1.003180  0.999902  1.003198  1.000718  1.003039   \n",
       "\n",
       "                GHFE      ACFF      DEBG      FAAF  ...       CGEG      DFDC  \\\n",
       "2017-08-07  1.000722  1.001180  0.999854  1.007294  ...   0.991433  1.013848   \n",
       "2017-08-08  1.000807  0.999363  1.000845  1.005171  ...   0.995372  1.022677   \n",
       "2017-08-09  0.998746  0.999204  1.001324  1.004739  ...   1.005031  1.036058   \n",
       "2017-08-10  1.002279  1.000980  1.000992  1.002299  ...   1.003246  1.028117   \n",
       "2017-08-11  1.003869  0.999936  1.000992  1.003573  ...   1.003610  1.026242   \n",
       "\n",
       "                CFHE      GAFE      CEGB      BBBF      FBFA      BAAD  \\\n",
       "2017-08-07  0.994505  1.003346  0.999119  0.990048  1.005814  1.031725   \n",
       "2017-08-08  1.007536  1.004865  1.002165  0.992480  1.005277  1.031352   \n",
       "2017-08-09  1.008735  1.003992  1.004789  0.998731  1.001852  1.032346   \n",
       "2017-08-10  1.003330  1.002999  1.009007  1.002488  1.002360  1.034426   \n",
       "2017-08-11  1.002225  0.999722  1.014674  0.997423  1.006664  1.012662   \n",
       "\n",
       "                DBHC  CGBB  \n",
       "2017-08-07  1.040652   1.0  \n",
       "2017-08-08  1.037563   1.0  \n",
       "2017-08-09  1.038579   1.0  \n",
       "2017-08-10  1.038579   1.0  \n",
       "2017-08-11  1.011735   1.0  \n",
       "\n",
       "[5 rows x 423 columns]"
      ]
     },
     "execution_count": 12,
     "metadata": {},
     "output_type": "execute_result"
    }
   ],
   "source": [
    "geoMA_5d_stocks_p2.head()"
   ]
  },
  {
   "cell_type": "markdown",
   "metadata": {
    "colab_type": "text",
    "id": "ee0c-aBwfKte"
   },
   "source": [
    "### Transpose the dataset"
   ]
  },
  {
   "cell_type": "markdown",
   "metadata": {
    "colab_type": "text",
    "id": "dSi_X63vo2Q5"
   },
   "source": [
    "We transpose the dataset of the 1st period to have one stock per row (instead of columns)."
   ]
  },
  {
   "cell_type": "code",
   "execution_count": 13,
   "metadata": {
    "colab": {},
    "colab_type": "code",
    "id": "sMM4P5uOfNyP"
   },
   "outputs": [],
   "source": [
    "geoMA_5d_stocks_p1_T = geoMA_5d_stocks_p1.T"
   ]
  },
  {
   "cell_type": "markdown",
   "metadata": {
    "colab_type": "text",
    "id": "hGd7dgtkefuL"
   },
   "source": [
    "## Create synthetic time series using stochastic simulation"
   ]
  },
  {
   "cell_type": "markdown",
   "metadata": {
    "colab_type": "text",
    "id": "dFZ6or6ieq_x"
   },
   "source": [
    "The modeling of the geometric moving average time series will be done using geometric brownian motion ***S(t)*** defined by:\n",
    "$$ \\large S(t) = S_0\\exp^{X(t)} $$\n",
    "where: $$ X_t = logreturns(t) = ln(S_{t}\\div S_{t-1})$$\n",
    "\n"
   ]
  },
  {
   "cell_type": "markdown",
   "metadata": {
    "colab_type": "text",
    "id": "vVX2mVL22OPl"
   },
   "source": [
    "For each stock, ***logreturns(t)*** is randomly selected following the following steps:\n",
    "\n",
    "1.   Calculate a vector of log returns over the two time periods (using ***geoMA_5d_stocks_T***)\n",
    "2.   Randomly select one log returns from the existing vector calculated in step 1\n",
    "\n",
    "1.   Construct a generated path using: $ S_t = S_0\\exp{logreturns(t)}$ $\\forall$ $t>=1$\n",
    "\n",
    "\n",
    "\n",
    "\n",
    "\n",
    "\n",
    "\n",
    "\n"
   ]
  },
  {
   "cell_type": "markdown",
   "metadata": {
    "colab_type": "text",
    "id": "bbKOFDP77gsZ"
   },
   "source": [
    "We will randomly select 100 stocks and generate 100 simulated paths for each stock. This will allow us to obtain 10,000 geometric moving average series."
   ]
  },
  {
   "cell_type": "markdown",
   "metadata": {
    "colab_type": "text",
    "id": "BApWCZ7M2LxO"
   },
   "source": [
    "For more on the geometric brownian motion process, see: http://www.columbia.edu/~ks20/FE-Notes/4700-07-Notes-GBM.pdf."
   ]
  },
  {
   "cell_type": "code",
   "execution_count": 14,
   "metadata": {
    "colab": {},
    "colab_type": "code",
    "id": "BTBBSZ2peYMe"
   },
   "outputs": [],
   "source": [
    "n_simpath_per_ticker = 100\n",
    "n_tickers_selected = 100 # We will select 100 random tickers without replacement from the NYSE dataframe\n",
    "random_tickers_selected = np.random.choice(len(geoMA_5d_stocks_p1_T), n_tickers_selected)\n",
    "n_rows_sim_paths_matrix = n_tickers_selected * n_simpath_per_ticker\n",
    "sim_paths_matrix  = np.zeros((n_rows_sim_paths_matrix, len(geoMA_5d_stocks_p1_T.iloc[0])))\n",
    "for i in range(len(random_tickers_selected)):\n",
    "#for i in range(2):\n",
    "  random_index = random_tickers_selected[i]\n",
    "  #print(random_index)\n",
    "  rd_stock_logReturns = np.diff(np.log(geoMA_5d_stocks_T.iloc[random_index]))\n",
    "  for j in range(n_simpath_per_ticker):\n",
    "    sim_path = np.zeros(len(geoMA_5d_stocks_p1_T.iloc[random_index]))\n",
    "    sim_path[0] = geoMA_5d_stocks_p1_T.iloc[random_index][0]\n",
    "    for k in range(1,len(sim_path)):\n",
    "      sim_path[k] = sim_path[0]*np.exp(rd_stock_logReturns[np.random.randint(0, len(rd_stock_logReturns))])\n",
    "    sim_paths_matrix[i*100+j] = sim_path"
   ]
  },
  {
   "cell_type": "code",
   "execution_count": 15,
   "metadata": {
    "colab": {
     "base_uri": "https://localhost:8080/",
     "height": 362
    },
    "colab_type": "code",
    "executionInfo": {
     "elapsed": 1026,
     "status": "ok",
     "timestamp": 1554396847812,
     "user": {
      "displayName": "Marie Imokoyende",
      "photoUrl": "",
      "userId": "13592623342127678396"
     },
     "user_tz": 240
    },
    "id": "tHL6cLuLYKic",
    "outputId": "83755b7d-0248-4fcf-e183-1e5d35a38cec"
   },
   "outputs": [
    {
     "data": {
      "image/png": "[encoded data removed]",
      "text/plain": [
       "<Figure size 432x288 with 1 Axes>"
      ]
     },
     "metadata": {
      "needs_background": "light"
     },
     "output_type": "display_data"
    }
   ],
   "source": [
    "# Let's plot a generated sample against a real geometric time series curve\n",
    "fig, ax = plt.subplots()\n",
    "ax.plot(geoMA_5d_stocks_p1_T.columns, sim_paths_matrix[0], label = 'Simulated')\n",
    "ax.plot(geoMA_5d_stocks_p1_T.columns, geoMA_5d_stocks_p1_T.iloc[random_tickers_selected[0]], label = 'Real')\n",
    "ax.set_title('Simulated 5d geometric MA path vs Real data')\n",
    "Legend = ax.legend(loc='lower right')"
   ]
  },
  {
   "cell_type": "code",
   "execution_count": 16,
   "metadata": {
    "colab": {},
    "colab_type": "code",
    "id": "N17bcgFChnaO"
   },
   "outputs": [],
   "source": [
    "# We shuffle the generated curves\n",
    "shuffled_array = np.random.permutation(sim_paths_matrix)"
   ]
  },
  {
   "cell_type": "markdown",
   "metadata": {
    "colab_type": "text",
    "id": "ILKjODGQbA55"
   },
   "source": [
    "We have expanded a dataset of 423 time series to 10,000 new time series similar (but not equal) to the stock dataset.\n",
    "This will allow us to keep the actual stock dataset universe for predictions and not even have to use it for the validation."
   ]
  },
  {
   "cell_type": "markdown",
   "metadata": {
    "colab_type": "text",
    "id": "wbd_THMHa10a"
   },
   "source": [
    "## Create a training and test dataset"
   ]
  },
  {
   "cell_type": "markdown",
   "metadata": {
    "colab_type": "text",
    "id": "kAiA4NYtbuuV"
   },
   "source": [
    "The training set will be 80% of the simulated paths."
   ]
  },
  {
   "cell_type": "code",
   "execution_count": 17,
   "metadata": {
    "colab": {},
    "colab_type": "code",
    "id": "EuUE5Amehpdd"
   },
   "outputs": [],
   "source": [
    "# We split the simulated time series into a training and test set\n",
    "x_train = shuffled_array[0:8000]\n",
    "x_test = shuffled_array[8000:]"
   ]
  },
  {
   "cell_type": "code",
   "execution_count": 18,
   "metadata": {
    "colab": {
     "base_uri": "https://localhost:8080/",
     "height": 51
    },
    "colab_type": "code",
    "executionInfo": {
     "elapsed": 482,
     "status": "ok",
     "timestamp": 1554397028353,
     "user": {
      "displayName": "Marie Imokoyende",
      "photoUrl": "",
      "userId": "13592623342127678396"
     },
     "user_tz": 240
    },
    "id": "v3MA74p0hrij",
    "outputId": "2f3127c3-c886-48c1-d46b-6c5059b86df0"
   },
   "outputs": [
    {
     "name": "stdout",
     "output_type": "stream",
     "text": [
      "(8000, 388)\n",
      "(2000, 388)\n"
     ]
    }
   ],
   "source": [
    "print(x_train.shape)\n",
    "print(x_test.shape)"
   ]
  },
  {
   "cell_type": "markdown",
   "metadata": {
    "colab_type": "text",
    "id": "6jF1OrpQiE6M"
   },
   "source": [
    "# Variational Autoencoder Model"
   ]
  },
  {
   "cell_type": "markdown",
   "metadata": {
    "colab_type": "text",
    "id": "JtP2LAEA2hKK"
   },
   "source": [
    "We will use a simple VAE architecture similar to the one described in the [Keras blog](https://github.com/keras-team/keras/blob/master/examples/variational_autoencoder.py).\n",
    "\n",
    "Our main goal is to reduce the dimensions of a time series vector with 388 elements to a two dimensional point."
   ]
  },
  {
   "cell_type": "markdown",
   "metadata": {
    "colab_type": "text",
    "id": "52Zw6awW_x-K"
   },
   "source": [
    "As described in the Keras tutorial, we first setup the network parameters:"
   ]
  },
  {
   "cell_type": "code",
   "execution_count": 19,
   "metadata": {
    "colab": {},
    "colab_type": "code",
    "id": "ugQSMbp9iHKJ"
   },
   "outputs": [],
   "source": [
    "# network parameters\n",
    "original_dim = x_train.shape[1]\n",
    "input_shape = (original_dim, )\n",
    "intermediate_dim = 300\n",
    "batch_size = 128\n",
    "latent_dim = 2\n",
    "epochs = 10"
   ]
  },
  {
   "cell_type": "markdown",
   "metadata": {
    "colab_type": "text",
    "id": "-tV5GK_ZAIyz"
   },
   "source": [
    "Then we map inputs to the latent distribution parameters:"
   ]
  },
  {
   "cell_type": "code",
   "execution_count": 20,
   "metadata": {
    "colab": {
     "base_uri": "https://localhost:8080/",
     "height": 88
    },
    "colab_type": "code",
    "executionInfo": {
     "elapsed": 258,
     "status": "ok",
     "timestamp": 1554397040193,
     "user": {
      "displayName": "Marie Imokoyende",
      "photoUrl": "",
      "userId": "13592623342127678396"
     },
     "user_tz": 240
    },
    "id": "YswLh98viJAC",
    "outputId": "7a0b400c-9f5e-4eb9-fd81-053f3425d614"
   },
   "outputs": [],
   "source": [
    "# VAE model = encoder + decoder\n",
    "# build encoder model\n",
    "inputs = Input(shape=input_shape, name='encoder_input')\n",
    "x = Dense(intermediate_dim, activation='relu')(inputs)\n",
    "z_mean = Dense(latent_dim, name='z_mean')(x)\n",
    "z_log_var = Dense(latent_dim, name='z_log_var')(x)"
   ]
  },
  {
   "cell_type": "markdown",
   "metadata": {
    "colab_type": "text",
    "id": "dgWsrBHFAfbj"
   },
   "source": [
    "We then use those parameters to sample new points from the latent space:"
   ]
  },
  {
   "cell_type": "code",
   "execution_count": 21,
   "metadata": {
    "colab": {},
    "colab_type": "code",
    "id": "L7D3gdP2gSmX"
   },
   "outputs": [],
   "source": [
    "# reparameterization trick\n",
    "# instead of sampling from Q(z|X), sample epsilon = N(0,I)\n",
    "# z = z_mean + sqrt(var) * epsilon\n",
    "def sampling(args):\n",
    "    \"\"\"Reparameterization trick by sampling from an isotropic unit Gaussian.\n",
    "    # Arguments\n",
    "        args (tensor): mean and log of variance of Q(z|X)\n",
    "    # Returns\n",
    "        z (tensor): sampled latent vector\n",
    "    \"\"\"\n",
    "\n",
    "    z_mean, z_log_var = args\n",
    "    batch = K.shape(z_mean)[0]\n",
    "    dim = K.int_shape(z_mean)[1]\n",
    "    # by default, random_normal has mean = 0 and std = 1.0\n",
    "    epsilon = K.random_normal(shape=(batch, dim))\n",
    "    return z_mean + K.exp(0.5 * z_log_var) * epsilon"
   ]
  },
  {
   "cell_type": "code",
   "execution_count": 22,
   "metadata": {
    "colab": {},
    "colab_type": "code",
    "id": "kHtlanwIiKwL"
   },
   "outputs": [],
   "source": [
    "# use reparameterization trick to push the sampling out as input\n",
    "# note that \"output_shape\" isn't necessary with the TensorFlow backend\n",
    "z = Lambda(sampling, output_shape=(latent_dim,), name='z')([z_mean, z_log_var])"
   ]
  },
  {
   "cell_type": "markdown",
   "metadata": {
    "colab_type": "text",
    "id": "msEbPTNYBO56"
   },
   "source": [
    "We instantiate the encoder model:"
   ]
  },
  {
   "cell_type": "code",
   "execution_count": 23,
   "metadata": {
    "colab": {
     "base_uri": "https://localhost:8080/",
     "height": 238
    },
    "colab_type": "code",
    "executionInfo": {
     "elapsed": 508,
     "status": "ok",
     "timestamp": 1554397046629,
     "user": {
      "displayName": "Marie Imokoyende",
      "photoUrl": "",
      "userId": "13592623342127678396"
     },
     "user_tz": 240
    },
    "id": "3Y6_DslDiMqN",
    "outputId": "7d38480d-1f47-496a-e788-d8f7c72de7e0"
   },
   "outputs": [
    {
     "name": "stdout",
     "output_type": "stream",
     "text": [
      "_________________________________________________________________\n",
      "Layer (type)                 Output Shape              Param #   \n",
      "=================================================================\n",
      "encoder_input (InputLayer)   (None, 388)               0         \n",
      "_________________________________________________________________\n",
      "dense_1 (Dense)              (None, 300)               116700    \n",
      "_________________________________________________________________\n",
      "z_mean (Dense)               (None, 2)                 602       \n",
      "=================================================================\n",
      "Total params: 117,302\n",
      "Trainable params: 117,302\n",
      "Non-trainable params: 0\n",
      "_________________________________________________________________\n"
     ]
    }
   ],
   "source": [
    "encoder = Model(inputs, z_mean)\n",
    "encoder.summary()"
   ]
  },
  {
   "cell_type": "markdown",
   "metadata": {
    "colab_type": "text",
    "id": "t3JO3QgzB8Yb"
   },
   "source": [
    "We build the decoder model:"
   ]
  },
  {
   "cell_type": "code",
   "execution_count": 24,
   "metadata": {
    "colab": {},
    "colab_type": "code",
    "id": "qan_zkUMiOTd"
   },
   "outputs": [],
   "source": [
    "latent_inputs = Input(shape=(latent_dim,), name='z_sampling')\n",
    "x = Dense(intermediate_dim, activation='relu')(latent_inputs)\n",
    "outputs = Dense(original_dim, activation='sigmoid')(x)"
   ]
  },
  {
   "cell_type": "markdown",
   "metadata": {
    "colab_type": "text",
    "id": "c_vFaff1CAvH"
   },
   "source": [
    "We instantiate the decoder model:"
   ]
  },
  {
   "cell_type": "code",
   "execution_count": 25,
   "metadata": {
    "colab": {
     "base_uri": "https://localhost:8080/",
     "height": 238
    },
    "colab_type": "code",
    "executionInfo": {
     "elapsed": 703,
     "status": "ok",
     "timestamp": 1554397053776,
     "user": {
      "displayName": "Marie Imokoyende",
      "photoUrl": "",
      "userId": "13592623342127678396"
     },
     "user_tz": 240
    },
    "id": "sJXNIYI9iQpX",
    "outputId": "06f97893-260c-413f-c425-606592fb8000"
   },
   "outputs": [
    {
     "name": "stdout",
     "output_type": "stream",
     "text": [
      "_________________________________________________________________\n",
      "Layer (type)                 Output Shape              Param #   \n",
      "=================================================================\n",
      "z_sampling (InputLayer)      (None, 2)                 0         \n",
      "_________________________________________________________________\n",
      "dense_2 (Dense)              (None, 300)               900       \n",
      "_________________________________________________________________\n",
      "dense_3 (Dense)              (None, 388)               116788    \n",
      "=================================================================\n",
      "Total params: 117,688\n",
      "Trainable params: 117,688\n",
      "Non-trainable params: 0\n",
      "_________________________________________________________________\n"
     ]
    }
   ],
   "source": [
    "decoder = Model(latent_inputs, outputs, name='decoder')\n",
    "decoder.summary()"
   ]
  },
  {
   "cell_type": "markdown",
   "metadata": {
    "colab_type": "text",
    "id": "SaGxWK2TCD68"
   },
   "source": [
    "We instantiate the VAE model:"
   ]
  },
  {
   "cell_type": "code",
   "execution_count": 26,
   "metadata": {
    "colab": {},
    "colab_type": "code",
    "id": "bs0I2LRUiR_G"
   },
   "outputs": [],
   "source": [
    "outputs = decoder(encoder(inputs))\n",
    "vae = Model(inputs, outputs, name='vae_mlp')"
   ]
  },
  {
   "cell_type": "markdown",
   "metadata": {
    "colab_type": "text",
    "id": "NTB1GZZxCMYM"
   },
   "source": [
    "As in the Keras tutorial, we define a custom loss function:"
   ]
  },
  {
   "cell_type": "code",
   "execution_count": 27,
   "metadata": {
    "colab": {},
    "colab_type": "code",
    "id": "UkHHIrFgiUXU"
   },
   "outputs": [],
   "source": [
    "def vae_loss(x, x_decoded_mean):\n",
    "    xent_loss = losses.binary_crossentropy(x, x_decoded_mean)\n",
    "    kl_loss = - 0.5 * K.mean(1 + z_log_var - K.square(z_mean) - K.exp(z_log_var), axis=-1)\n",
    "    return xent_loss + kl_loss"
   ]
  },
  {
   "cell_type": "markdown",
   "metadata": {
    "colab_type": "text",
    "id": "AG9Jwh3HCQ-S"
   },
   "source": [
    "We compile the model:"
   ]
  },
  {
   "cell_type": "code",
   "execution_count": 28,
   "metadata": {
    "colab": {},
    "colab_type": "code",
    "id": "OrM_TQWbCR4u"
   },
   "outputs": [],
   "source": [
    "vae.compile(optimizer='rmsprop', loss=vae_loss)"
   ]
  },
  {
   "cell_type": "markdown",
   "metadata": {
    "colab_type": "text",
    "id": "RSI5HrIVf8pr"
   },
   "source": [
    "## Train the model"
   ]
  },
  {
   "cell_type": "code",
   "execution_count": 29,
   "metadata": {
    "colab": {
     "base_uri": "https://localhost:8080/",
     "height": 445
    },
    "colab_type": "code",
    "executionInfo": {
     "elapsed": 7617,
     "status": "ok",
     "timestamp": 1554397072860,
     "user": {
      "displayName": "Marie Imokoyende",
      "photoUrl": "",
      "userId": "13592623342127678396"
     },
     "user_tz": 240
    },
    "id": "plt0SHlpwZG4",
    "outputId": "82092833-f825-4031-de71-2001e4da9c6c"
   },
   "outputs": [
    {
     "name": "stdout",
     "output_type": "stream",
     "text": [
      "Train on 8000 samples, validate on 2000 samples\n",
      "Epoch 1/10\n",
      "8000/8000 [==============================] - 2s 221us/step - loss: 1.0052 - val_loss: 0.7400\n",
      "Epoch 2/10\n",
      "8000/8000 [==============================] - 1s 137us/step - loss: 0.4440 - val_loss: 0.2684\n",
      "Epoch 3/10\n",
      "8000/8000 [==============================] - 1s 136us/step - loss: 0.2165 - val_loss: 0.2174\n",
      "Epoch 4/10\n",
      "8000/8000 [==============================] - 1s 151us/step - loss: 0.1677 - val_loss: 0.0831\n",
      "Epoch 5/10\n",
      "8000/8000 [==============================] - 1s 145us/step - loss: 0.1156 - val_loss: 0.1334\n",
      "Epoch 6/10\n",
      "8000/8000 [==============================] - 1s 152us/step - loss: 0.0963 - val_loss: 0.0655\n",
      "Epoch 7/10\n",
      "8000/8000 [==============================] - 1s 144us/step - loss: 0.0714 - val_loss: 0.1386\n",
      "Epoch 8/10\n",
      "8000/8000 [==============================] - 1s 136us/step - loss: 0.0627 - val_loss: 0.0691\n",
      "Epoch 9/10\n",
      "8000/8000 [==============================] - 1s 133us/step - loss: 0.0617 - val_loss: 0.0720\n",
      "Epoch 10/10\n",
      "8000/8000 [==============================] - 1s 130us/step - loss: 0.0609 - val_loss: 0.0724\n"
     ]
    }
   ],
   "source": [
    "results = vae.fit(x_train, x_train,\n",
    "        shuffle=True,\n",
    "        epochs=epochs,\n",
    "        batch_size=batch_size,\n",
    "        validation_data=(x_test, x_test))"
   ]
  },
  {
   "cell_type": "code",
   "execution_count": 30,
   "metadata": {
    "colab": {
     "base_uri": "https://localhost:8080/",
     "height": 376
    },
    "colab_type": "code",
    "executionInfo": {
     "elapsed": 746,
     "status": "ok",
     "timestamp": 1554397376637,
     "user": {
      "displayName": "Marie Imokoyende",
      "photoUrl": "",
      "userId": "13592623342127678396"
     },
     "user_tz": 240
    },
    "id": "9To0hR8oweg0",
    "outputId": "abaaede3-9c67-428c-f861-5f15048394c3"
   },
   "outputs": [
    {
     "data": {
      "image/png": "[encoded data removed]",
      "text/plain": [
       "<Figure size 432x288 with 1 Axes>"
      ]
     },
     "metadata": {
      "needs_background": "light"
     },
     "output_type": "display_data"
    }
   ],
   "source": [
    "# Plot training & validation loss values\n",
    "plt.plot(results.history['loss'])\n",
    "plt.plot(results.history['val_loss'])\n",
    "plt.title('Model loss')\n",
    "plt.ylabel('Loss')\n",
    "plt.xlabel('Epoch')\n",
    "plt.legend(['Train', 'Validation'], loc='upper right')\n",
    "plt.show()"
   ]
  },
  {
   "cell_type": "markdown",
   "metadata": {
    "colab_type": "text",
    "id": "ItE6aCu4w3qS"
   },
   "source": [
    "## Get predictions"
   ]
  },
  {
   "cell_type": "markdown",
   "metadata": {
    "colab_type": "text",
    "id": "jcigNkM2xG9Z"
   },
   "source": [
    "### Futures dataset"
   ]
  },
  {
   "cell_type": "markdown",
   "metadata": {
    "colab_type": "text",
    "id": "AXdG0736gP0G"
   },
   "source": [
    "#### Load the data"
   ]
  },
  {
   "cell_type": "code",
   "execution_count": 31,
   "metadata": {
    "colab": {},
    "colab_type": "code",
    "id": "vonCS55owoC4"
   },
   "outputs": [],
   "source": [
    "geoMA_5d_futures = pd.read_excel(PATH_FILES + '/geoMA_5d_futures.xlsx', index_col = 0)"
   ]
  },
  {
   "cell_type": "code",
   "execution_count": 32,
   "metadata": {
    "colab": {
     "base_uri": "https://localhost:8080/",
     "height": 235
    },
    "colab_type": "code",
    "executionInfo": {
     "elapsed": 515,
     "status": "ok",
     "timestamp": 1554397385693,
     "user": {
      "displayName": "Marie Imokoyende",
      "photoUrl": "",
      "userId": "13592623342127678396"
     },
     "user_tz": 240
    },
    "id": "GQ2pzcHtxAO8",
    "outputId": "47ac7ca5-82fa-4828-8386-22169f0cc974"
   },
   "outputs": [
    {
     "data": {
      "text/html": [
       "<div>\n",
       "<style scoped>\n",
       "    .dataframe tbody tr th:only-of-type {\n",
       "        vertical-align: middle;\n",
       "    }\n",
       "\n",
       "    .dataframe tbody tr th {\n",
       "        vertical-align: top;\n",
       "    }\n",
       "\n",
       "    .dataframe thead th {\n",
       "        text-align: right;\n",
       "    }\n",
       "</style>\n",
       "<table border=\"1\" class=\"dataframe\">\n",
       "  <thead>\n",
       "    <tr style=\"text-align: right;\">\n",
       "      <th></th>\n",
       "      <th>Settle</th>\n",
       "    </tr>\n",
       "    <tr>\n",
       "      <th>Date</th>\n",
       "      <th></th>\n",
       "    </tr>\n",
       "  </thead>\n",
       "  <tbody>\n",
       "    <tr>\n",
       "      <th>2016-01-12</th>\n",
       "      <td>0.993060</td>\n",
       "    </tr>\n",
       "    <tr>\n",
       "      <th>2016-01-13</th>\n",
       "      <td>0.991061</td>\n",
       "    </tr>\n",
       "    <tr>\n",
       "      <th>2016-01-14</th>\n",
       "      <td>0.992256</td>\n",
       "    </tr>\n",
       "    <tr>\n",
       "      <th>2016-01-15</th>\n",
       "      <td>0.997690</td>\n",
       "    </tr>\n",
       "    <tr>\n",
       "      <th>2016-01-18</th>\n",
       "      <td>0.995562</td>\n",
       "    </tr>\n",
       "  </tbody>\n",
       "</table>\n",
       "</div>"
      ],
      "text/plain": [
       "              Settle\n",
       "Date                \n",
       "2016-01-12  0.993060\n",
       "2016-01-13  0.991061\n",
       "2016-01-14  0.992256\n",
       "2016-01-15  0.997690\n",
       "2016-01-18  0.995562"
      ]
     },
     "execution_count": 32,
     "metadata": {},
     "output_type": "execute_result"
    }
   ],
   "source": [
    "geoMA_5d_futures.head()"
   ]
  },
  {
   "cell_type": "code",
   "execution_count": 33,
   "metadata": {
    "colab": {},
    "colab_type": "code",
    "id": "cMeG2QhnUnbf"
   },
   "outputs": [],
   "source": [
    "#Rename column \"Settle\" to \"Futures\"\n",
    "geoMA_5d_futures.rename(columns={\"Settle\": \"Futures\"}, inplace = True)"
   ]
  },
  {
   "cell_type": "code",
   "execution_count": 34,
   "metadata": {
    "colab": {
     "base_uri": "https://localhost:8080/",
     "height": 34
    },
    "colab_type": "code",
    "executionInfo": {
     "elapsed": 304,
     "status": "ok",
     "timestamp": 1554397388537,
     "user": {
      "displayName": "Marie Imokoyende",
      "photoUrl": "",
      "userId": "13592623342127678396"
     },
     "user_tz": 240
    },
    "id": "UeH9z_vIVAGL",
    "outputId": "1bfa41ca-ca89-4e7d-d1fb-253a595b1c12"
   },
   "outputs": [
    {
     "data": {
      "text/plain": [
       "Index(['Futures'], dtype='object')"
      ]
     },
     "execution_count": 34,
     "metadata": {},
     "output_type": "execute_result"
    }
   ],
   "source": [
    "# We verify\n",
    "geoMA_5d_futures.columns"
   ]
  },
  {
   "cell_type": "markdown",
   "metadata": {
    "colab_type": "text",
    "id": "S7gN3mN0xLZg"
   },
   "source": [
    "#### Then divide the futures dataset into two periods as well"
   ]
  },
  {
   "cell_type": "code",
   "execution_count": 35,
   "metadata": {
    "colab": {
     "base_uri": "https://localhost:8080/",
     "height": 51
    },
    "colab_type": "code",
    "executionInfo": {
     "elapsed": 907,
     "status": "ok",
     "timestamp": 1554397395367,
     "user": {
      "displayName": "Marie Imokoyende",
      "photoUrl": "",
      "userId": "13592623342127678396"
     },
     "user_tz": 240
    },
    "id": "6i6OF0GnxD5d",
    "outputId": "6eea6c43-ce6c-4c34-b9b5-0084f54286ef"
   },
   "outputs": [
    {
     "name": "stdout",
     "output_type": "stream",
     "text": [
      "len(geoMA_5d_futures_p1) = 388\n",
      "len(geoMA_5d_futures_p2) = 388\n"
     ]
    }
   ],
   "source": [
    "geoMA_5d_futures_p1 = geoMA_5d_futures.head(int(len(geoMA_5d_futures)/2))\n",
    "geoMA_5d_futures_p2 = geoMA_5d_futures.tail(int(len(geoMA_5d_futures)/2))\n",
    "print('len(geoMA_5d_futures_p1) =', len(geoMA_5d_futures_p1))\n",
    "print('len(geoMA_5d_futures_p2) =', len(geoMA_5d_futures_p1))"
   ]
  },
  {
   "cell_type": "code",
   "execution_count": 36,
   "metadata": {
    "colab": {
     "base_uri": "https://localhost:8080/",
     "height": 235
    },
    "colab_type": "code",
    "executionInfo": {
     "elapsed": 444,
     "status": "ok",
     "timestamp": 1554397396628,
     "user": {
      "displayName": "Marie Imokoyende",
      "photoUrl": "",
      "userId": "13592623342127678396"
     },
     "user_tz": 240
    },
    "id": "NyDw3UcGxVDB",
    "outputId": "df7ca8b6-4f58-42c5-b205-9d7727fea510"
   },
   "outputs": [
    {
     "data": {
      "text/html": [
       "<div>\n",
       "<style scoped>\n",
       "    .dataframe tbody tr th:only-of-type {\n",
       "        vertical-align: middle;\n",
       "    }\n",
       "\n",
       "    .dataframe tbody tr th {\n",
       "        vertical-align: top;\n",
       "    }\n",
       "\n",
       "    .dataframe thead th {\n",
       "        text-align: right;\n",
       "    }\n",
       "</style>\n",
       "<table border=\"1\" class=\"dataframe\">\n",
       "  <thead>\n",
       "    <tr style=\"text-align: right;\">\n",
       "      <th></th>\n",
       "      <th>Futures</th>\n",
       "    </tr>\n",
       "    <tr>\n",
       "      <th>Date</th>\n",
       "      <th></th>\n",
       "    </tr>\n",
       "  </thead>\n",
       "  <tbody>\n",
       "    <tr>\n",
       "      <th>2017-07-31</th>\n",
       "      <td>1.006975</td>\n",
       "    </tr>\n",
       "    <tr>\n",
       "      <th>2017-08-01</th>\n",
       "      <td>1.006605</td>\n",
       "    </tr>\n",
       "    <tr>\n",
       "      <th>2017-08-02</th>\n",
       "      <td>1.000779</td>\n",
       "    </tr>\n",
       "    <tr>\n",
       "      <th>2017-08-03</th>\n",
       "      <td>1.000067</td>\n",
       "    </tr>\n",
       "    <tr>\n",
       "      <th>2017-08-04</th>\n",
       "      <td>0.999748</td>\n",
       "    </tr>\n",
       "  </tbody>\n",
       "</table>\n",
       "</div>"
      ],
      "text/plain": [
       "             Futures\n",
       "Date                \n",
       "2017-07-31  1.006975\n",
       "2017-08-01  1.006605\n",
       "2017-08-02  1.000779\n",
       "2017-08-03  1.000067\n",
       "2017-08-04  0.999748"
      ]
     },
     "execution_count": 36,
     "metadata": {},
     "output_type": "execute_result"
    }
   ],
   "source": [
    "geoMA_5d_futures_p1.tail()"
   ]
  },
  {
   "cell_type": "code",
   "execution_count": 37,
   "metadata": {
    "colab": {
     "base_uri": "https://localhost:8080/",
     "height": 235
    },
    "colab_type": "code",
    "executionInfo": {
     "elapsed": 513,
     "status": "ok",
     "timestamp": 1554397398771,
     "user": {
      "displayName": "Marie Imokoyende",
      "photoUrl": "",
      "userId": "13592623342127678396"
     },
     "user_tz": 240
    },
    "id": "HqxlU8AmxmqS",
    "outputId": "236ff9f8-ac3e-4c82-d576-1dce7d49d68b"
   },
   "outputs": [
    {
     "data": {
      "text/html": [
       "<div>\n",
       "<style scoped>\n",
       "    .dataframe tbody tr th:only-of-type {\n",
       "        vertical-align: middle;\n",
       "    }\n",
       "\n",
       "    .dataframe tbody tr th {\n",
       "        vertical-align: top;\n",
       "    }\n",
       "\n",
       "    .dataframe thead th {\n",
       "        text-align: right;\n",
       "    }\n",
       "</style>\n",
       "<table border=\"1\" class=\"dataframe\">\n",
       "  <thead>\n",
       "    <tr style=\"text-align: right;\">\n",
       "      <th></th>\n",
       "      <th>Futures</th>\n",
       "    </tr>\n",
       "    <tr>\n",
       "      <th>Date</th>\n",
       "      <th></th>\n",
       "    </tr>\n",
       "  </thead>\n",
       "  <tbody>\n",
       "    <tr>\n",
       "      <th>2017-08-07</th>\n",
       "      <td>1.000353</td>\n",
       "    </tr>\n",
       "    <tr>\n",
       "      <th>2017-08-08</th>\n",
       "      <td>1.002803</td>\n",
       "    </tr>\n",
       "    <tr>\n",
       "      <th>2017-08-09</th>\n",
       "      <td>1.007374</td>\n",
       "    </tr>\n",
       "    <tr>\n",
       "      <th>2017-08-10</th>\n",
       "      <td>1.006390</td>\n",
       "    </tr>\n",
       "    <tr>\n",
       "      <th>2017-08-11</th>\n",
       "      <td>1.007360</td>\n",
       "    </tr>\n",
       "  </tbody>\n",
       "</table>\n",
       "</div>"
      ],
      "text/plain": [
       "             Futures\n",
       "Date                \n",
       "2017-08-07  1.000353\n",
       "2017-08-08  1.002803\n",
       "2017-08-09  1.007374\n",
       "2017-08-10  1.006390\n",
       "2017-08-11  1.007360"
      ]
     },
     "execution_count": 37,
     "metadata": {},
     "output_type": "execute_result"
    }
   ],
   "source": [
    "geoMA_5d_futures_p2.head()"
   ]
  },
  {
   "cell_type": "markdown",
   "metadata": {
    "colab_type": "text",
    "id": "iL4sNQ_lx3WA"
   },
   "source": [
    "### Create the matrices to test (for period 1)"
   ]
  },
  {
   "cell_type": "code",
   "execution_count": 38,
   "metadata": {
    "colab": {},
    "colab_type": "code",
    "id": "5SIulv72xrGo"
   },
   "outputs": [],
   "source": [
    "dataframe_to_test_p1 = geoMA_5d_stocks_p1.join(geoMA_5d_futures_p1)"
   ]
  },
  {
   "cell_type": "code",
   "execution_count": 39,
   "metadata": {
    "colab": {
     "base_uri": "https://localhost:8080/",
     "height": 338
    },
    "colab_type": "code",
    "executionInfo": {
     "elapsed": 522,
     "status": "ok",
     "timestamp": 1554397406334,
     "user": {
      "displayName": "Marie Imokoyende",
      "photoUrl": "",
      "userId": "13592623342127678396"
     },
     "user_tz": 240
    },
    "id": "gzeULPMjyCbU",
    "outputId": "89bd794d-a1aa-4871-e4d7-a0b93890449e"
   },
   "outputs": [
    {
     "data": {
      "text/html": [
       "<div>\n",
       "<style scoped>\n",
       "    .dataframe tbody tr th:only-of-type {\n",
       "        vertical-align: middle;\n",
       "    }\n",
       "\n",
       "    .dataframe tbody tr th {\n",
       "        vertical-align: top;\n",
       "    }\n",
       "\n",
       "    .dataframe thead th {\n",
       "        text-align: right;\n",
       "    }\n",
       "</style>\n",
       "<table border=\"1\" class=\"dataframe\">\n",
       "  <thead>\n",
       "    <tr style=\"text-align: right;\">\n",
       "      <th></th>\n",
       "      <th>ABBD</th>\n",
       "      <th>HGBD</th>\n",
       "      <th>CAFC</th>\n",
       "      <th>DABC</th>\n",
       "      <th>HBCF</th>\n",
       "      <th>EGBD</th>\n",
       "      <th>GHFE</th>\n",
       "      <th>ACFF</th>\n",
       "      <th>DEBG</th>\n",
       "      <th>FAAF</th>\n",
       "      <th>...</th>\n",
       "      <th>DFDC</th>\n",
       "      <th>CFHE</th>\n",
       "      <th>GAFE</th>\n",
       "      <th>CEGB</th>\n",
       "      <th>BBBF</th>\n",
       "      <th>FBFA</th>\n",
       "      <th>BAAD</th>\n",
       "      <th>DBHC</th>\n",
       "      <th>CGBB</th>\n",
       "      <th>Futures</th>\n",
       "    </tr>\n",
       "  </thead>\n",
       "  <tbody>\n",
       "    <tr>\n",
       "      <th>2017-07-31</th>\n",
       "      <td>0.998172</td>\n",
       "      <td>0.998562</td>\n",
       "      <td>1.002159</td>\n",
       "      <td>1.000000</td>\n",
       "      <td>1.003872</td>\n",
       "      <td>1.001689</td>\n",
       "      <td>0.993497</td>\n",
       "      <td>0.997808</td>\n",
       "      <td>1.001285</td>\n",
       "      <td>1.002584</td>\n",
       "      <td>...</td>\n",
       "      <td>1.005164</td>\n",
       "      <td>0.998917</td>\n",
       "      <td>0.999300</td>\n",
       "      <td>1.000440</td>\n",
       "      <td>1.019369</td>\n",
       "      <td>1.019245</td>\n",
       "      <td>1.002841</td>\n",
       "      <td>0.983524</td>\n",
       "      <td>1.0</td>\n",
       "      <td>1.006975</td>\n",
       "    </tr>\n",
       "    <tr>\n",
       "      <th>2017-08-01</th>\n",
       "      <td>0.996823</td>\n",
       "      <td>0.993613</td>\n",
       "      <td>0.997673</td>\n",
       "      <td>1.003090</td>\n",
       "      <td>1.002733</td>\n",
       "      <td>0.998679</td>\n",
       "      <td>0.996245</td>\n",
       "      <td>0.999049</td>\n",
       "      <td>0.999669</td>\n",
       "      <td>0.999894</td>\n",
       "      <td>...</td>\n",
       "      <td>1.000339</td>\n",
       "      <td>0.996753</td>\n",
       "      <td>1.000000</td>\n",
       "      <td>1.003960</td>\n",
       "      <td>0.988092</td>\n",
       "      <td>1.015057</td>\n",
       "      <td>1.004982</td>\n",
       "      <td>0.999846</td>\n",
       "      <td>1.0</td>\n",
       "      <td>1.006605</td>\n",
       "    </tr>\n",
       "    <tr>\n",
       "      <th>2017-08-02</th>\n",
       "      <td>0.993745</td>\n",
       "      <td>0.994855</td>\n",
       "      <td>0.988318</td>\n",
       "      <td>1.001590</td>\n",
       "      <td>1.002438</td>\n",
       "      <td>0.996904</td>\n",
       "      <td>0.998682</td>\n",
       "      <td>0.999049</td>\n",
       "      <td>0.999192</td>\n",
       "      <td>0.994799</td>\n",
       "      <td>...</td>\n",
       "      <td>0.993220</td>\n",
       "      <td>0.995614</td>\n",
       "      <td>0.998804</td>\n",
       "      <td>1.006727</td>\n",
       "      <td>0.986629</td>\n",
       "      <td>1.011829</td>\n",
       "      <td>1.001699</td>\n",
       "      <td>0.996020</td>\n",
       "      <td>1.0</td>\n",
       "      <td>1.000779</td>\n",
       "    </tr>\n",
       "    <tr>\n",
       "      <th>2017-08-03</th>\n",
       "      <td>0.993626</td>\n",
       "      <td>1.004711</td>\n",
       "      <td>0.988512</td>\n",
       "      <td>1.004182</td>\n",
       "      <td>1.001161</td>\n",
       "      <td>0.999502</td>\n",
       "      <td>1.001007</td>\n",
       "      <td>0.998863</td>\n",
       "      <td>0.999523</td>\n",
       "      <td>1.001984</td>\n",
       "      <td>...</td>\n",
       "      <td>1.001718</td>\n",
       "      <td>0.994505</td>\n",
       "      <td>0.999100</td>\n",
       "      <td>0.999564</td>\n",
       "      <td>0.992664</td>\n",
       "      <td>1.013437</td>\n",
       "      <td>1.000000</td>\n",
       "      <td>0.996323</td>\n",
       "      <td>1.0</td>\n",
       "      <td>1.000067</td>\n",
       "    </tr>\n",
       "    <tr>\n",
       "      <th>2017-08-04</th>\n",
       "      <td>0.994796</td>\n",
       "      <td>1.004196</td>\n",
       "      <td>0.986593</td>\n",
       "      <td>1.004182</td>\n",
       "      <td>1.002233</td>\n",
       "      <td>0.999158</td>\n",
       "      <td>1.000465</td>\n",
       "      <td>0.996571</td>\n",
       "      <td>0.999854</td>\n",
       "      <td>0.998132</td>\n",
       "      <td>...</td>\n",
       "      <td>1.000338</td>\n",
       "      <td>0.994505</td>\n",
       "      <td>1.001957</td>\n",
       "      <td>0.996918</td>\n",
       "      <td>0.993710</td>\n",
       "      <td>1.012117</td>\n",
       "      <td>1.013800</td>\n",
       "      <td>1.018670</td>\n",
       "      <td>1.0</td>\n",
       "      <td>0.999748</td>\n",
       "    </tr>\n",
       "  </tbody>\n",
       "</table>\n",
       "<p>5 rows × 424 columns</p>\n",
       "</div>"
      ],
      "text/plain": [
       "                ABBD      HGBD      CAFC      DABC      HBCF      EGBD  \\\n",
       "2017-07-31  0.998172  0.998562  1.002159  1.000000  1.003872  1.001689   \n",
       "2017-08-01  0.996823  0.993613  0.997673  1.003090  1.002733  0.998679   \n",
       "2017-08-02  0.993745  0.994855  0.988318  1.001590  1.002438  0.996904   \n",
       "2017-08-03  0.993626  1.004711  0.988512  1.004182  1.001161  0.999502   \n",
       "2017-08-04  0.994796  1.004196  0.986593  1.004182  1.002233  0.999158   \n",
       "\n",
       "                GHFE      ACFF      DEBG      FAAF    ...         DFDC  \\\n",
       "2017-07-31  0.993497  0.997808  1.001285  1.002584    ...     1.005164   \n",
       "2017-08-01  0.996245  0.999049  0.999669  0.999894    ...     1.000339   \n",
       "2017-08-02  0.998682  0.999049  0.999192  0.994799    ...     0.993220   \n",
       "2017-08-03  1.001007  0.998863  0.999523  1.001984    ...     1.001718   \n",
       "2017-08-04  1.000465  0.996571  0.999854  0.998132    ...     1.000338   \n",
       "\n",
       "                CFHE      GAFE      CEGB      BBBF      FBFA      BAAD  \\\n",
       "2017-07-31  0.998917  0.999300  1.000440  1.019369  1.019245  1.002841   \n",
       "2017-08-01  0.996753  1.000000  1.003960  0.988092  1.015057  1.004982   \n",
       "2017-08-02  0.995614  0.998804  1.006727  0.986629  1.011829  1.001699   \n",
       "2017-08-03  0.994505  0.999100  0.999564  0.992664  1.013437  1.000000   \n",
       "2017-08-04  0.994505  1.001957  0.996918  0.993710  1.012117  1.013800   \n",
       "\n",
       "                DBHC  CGBB   Futures  \n",
       "2017-07-31  0.983524   1.0  1.006975  \n",
       "2017-08-01  0.999846   1.0  1.006605  \n",
       "2017-08-02  0.996020   1.0  1.000779  \n",
       "2017-08-03  0.996323   1.0  1.000067  \n",
       "2017-08-04  1.018670   1.0  0.999748  \n",
       "\n",
       "[5 rows x 424 columns]"
      ]
     },
     "execution_count": 39,
     "metadata": {},
     "output_type": "execute_result"
    }
   ],
   "source": [
    "dataframe_to_test_p1.tail()"
   ]
  },
  {
   "cell_type": "code",
   "execution_count": 40,
   "metadata": {
    "colab": {},
    "colab_type": "code",
    "id": "YtZ4nNdDyEnu"
   },
   "outputs": [],
   "source": [
    "matrix_to_test_p1 = dataframe_to_test_p1.T.values"
   ]
  },
  {
   "cell_type": "markdown",
   "metadata": {
    "colab_type": "text",
    "id": "ZwDq6wOuz19l"
   },
   "source": [
    "### Obtain the predictions (for period 1)"
   ]
  },
  {
   "cell_type": "code",
   "execution_count": 41,
   "metadata": {
    "colab": {},
    "colab_type": "code",
    "id": "Rb96TNt3zwdr"
   },
   "outputs": [],
   "source": [
    "encoded_p1 = encoder.predict(matrix_to_test_p1, batch_size=batch_size)\n",
    "\n",
    "# Convert the predictions into a dataframe\n",
    "encoded_p1_df = pd.DataFrame(data = encoded_p1, columns = ['x','y'], index = dataframe_to_test_p1.T.index)"
   ]
  },
  {
   "cell_type": "code",
   "execution_count": 42,
   "metadata": {
    "colab": {
     "base_uri": "https://localhost:8080/",
     "height": 204
    },
    "colab_type": "code",
    "executionInfo": {
     "elapsed": 707,
     "status": "ok",
     "timestamp": 1554397415471,
     "user": {
      "displayName": "Marie Imokoyende",
      "photoUrl": "",
      "userId": "13592623342127678396"
     },
     "user_tz": 240
    },
    "id": "2IYZ1bYUz-28",
    "outputId": "1d4c6c4b-cb4e-459b-b5ec-699613cb2ae3"
   },
   "outputs": [
    {
     "data": {
      "text/html": [
       "<div>\n",
       "<style scoped>\n",
       "    .dataframe tbody tr th:only-of-type {\n",
       "        vertical-align: middle;\n",
       "    }\n",
       "\n",
       "    .dataframe tbody tr th {\n",
       "        vertical-align: top;\n",
       "    }\n",
       "\n",
       "    .dataframe thead th {\n",
       "        text-align: right;\n",
       "    }\n",
       "</style>\n",
       "<table border=\"1\" class=\"dataframe\">\n",
       "  <thead>\n",
       "    <tr style=\"text-align: right;\">\n",
       "      <th></th>\n",
       "      <th>x</th>\n",
       "      <th>y</th>\n",
       "    </tr>\n",
       "  </thead>\n",
       "  <tbody>\n",
       "    <tr>\n",
       "      <th>FBFA</th>\n",
       "      <td>0.039404</td>\n",
       "      <td>-0.018855</td>\n",
       "    </tr>\n",
       "    <tr>\n",
       "      <th>BAAD</th>\n",
       "      <td>0.041755</td>\n",
       "      <td>-0.026624</td>\n",
       "    </tr>\n",
       "    <tr>\n",
       "      <th>DBHC</th>\n",
       "      <td>0.042601</td>\n",
       "      <td>-0.025670</td>\n",
       "    </tr>\n",
       "    <tr>\n",
       "      <th>CGBB</th>\n",
       "      <td>0.040644</td>\n",
       "      <td>-0.017977</td>\n",
       "    </tr>\n",
       "    <tr>\n",
       "      <th>Futures</th>\n",
       "      <td>0.043204</td>\n",
       "      <td>-0.018102</td>\n",
       "    </tr>\n",
       "  </tbody>\n",
       "</table>\n",
       "</div>"
      ],
      "text/plain": [
       "                x         y\n",
       "FBFA     0.039404 -0.018855\n",
       "BAAD     0.041755 -0.026624\n",
       "DBHC     0.042601 -0.025670\n",
       "CGBB     0.040644 -0.017977\n",
       "Futures  0.043204 -0.018102"
      ]
     },
     "execution_count": 42,
     "metadata": {},
     "output_type": "execute_result"
    }
   ],
   "source": [
    "encoded_p1_df.tail()"
   ]
  },
  {
   "cell_type": "markdown",
   "metadata": {
    "colab_type": "text",
    "id": "E2VWe5lwgk5c"
   },
   "source": [
    "#### Calculate the distances between the futures contract point and all other points in the stocks dataset"
   ]
  },
  {
   "cell_type": "code",
   "execution_count": 43,
   "metadata": {
    "colab": {},
    "colab_type": "code",
    "id": "ikoIZrPF0AiI"
   },
   "outputs": [],
   "source": [
    "ref_point = encoded_p1_df.loc['Futures'].values\n",
    "encoded_p1_df['Distance'] = scipy.spatial.distance.cdist([ref_point], encoded_p1_df, metric='euclidean')[0]"
   ]
  },
  {
   "cell_type": "markdown",
   "metadata": {
    "colab_type": "text",
    "id": "C94tdi2hhE2v"
   },
   "source": [
    "#### Get the 50 closest points to the Futures point"
   ]
  },
  {
   "cell_type": "code",
   "execution_count": 44,
   "metadata": {
    "colab": {},
    "colab_type": "code",
    "id": "_DMeh23Tg_tn"
   },
   "outputs": [],
   "source": [
    "closest_points = encoded_p1_df.sort_values('Distance', ascending = True)\n",
    "closest_points_top50 = closest_points.head(51)[1:] #We take head(51), because the Futures reference point is the first entry\n",
    "closest_points_top50['Ticker'] = closest_points_top50.index"
   ]
  },
  {
   "cell_type": "code",
   "execution_count": 45,
   "metadata": {
    "colab": {
     "base_uri": "https://localhost:8080/",
     "height": 204
    },
    "colab_type": "code",
    "executionInfo": {
     "elapsed": 282,
     "status": "ok",
     "timestamp": 1554397427616,
     "user": {
      "displayName": "Marie Imokoyende",
      "photoUrl": "",
      "userId": "13592623342127678396"
     },
     "user_tz": 240
    },
    "id": "WZIGpSbg0OJx",
    "outputId": "b6811a45-a6c8-4cdb-a9d8-82b0ccd54237"
   },
   "outputs": [
    {
     "data": {
      "text/html": [
       "<div>\n",
       "<style scoped>\n",
       "    .dataframe tbody tr th:only-of-type {\n",
       "        vertical-align: middle;\n",
       "    }\n",
       "\n",
       "    .dataframe tbody tr th {\n",
       "        vertical-align: top;\n",
       "    }\n",
       "\n",
       "    .dataframe thead th {\n",
       "        text-align: right;\n",
       "    }\n",
       "</style>\n",
       "<table border=\"1\" class=\"dataframe\">\n",
       "  <thead>\n",
       "    <tr style=\"text-align: right;\">\n",
       "      <th></th>\n",
       "      <th>x</th>\n",
       "      <th>y</th>\n",
       "      <th>Distance</th>\n",
       "      <th>Ticker</th>\n",
       "    </tr>\n",
       "  </thead>\n",
       "  <tbody>\n",
       "    <tr>\n",
       "      <th>FBCE</th>\n",
       "      <td>0.043366</td>\n",
       "      <td>-0.018374</td>\n",
       "      <td>0.000316</td>\n",
       "      <td>FBCE</td>\n",
       "    </tr>\n",
       "    <tr>\n",
       "      <th>CFCH</th>\n",
       "      <td>0.042835</td>\n",
       "      <td>-0.018229</td>\n",
       "      <td>0.000391</td>\n",
       "      <td>CFCH</td>\n",
       "    </tr>\n",
       "    <tr>\n",
       "      <th>ABBD</th>\n",
       "      <td>0.042764</td>\n",
       "      <td>-0.017987</td>\n",
       "      <td>0.000455</td>\n",
       "      <td>ABBD</td>\n",
       "    </tr>\n",
       "    <tr>\n",
       "      <th>CAHB</th>\n",
       "      <td>0.043378</td>\n",
       "      <td>-0.017658</td>\n",
       "      <td>0.000477</td>\n",
       "      <td>CAHB</td>\n",
       "    </tr>\n",
       "    <tr>\n",
       "      <th>CCHD</th>\n",
       "      <td>0.042713</td>\n",
       "      <td>-0.018076</td>\n",
       "      <td>0.000491</td>\n",
       "      <td>CCHD</td>\n",
       "    </tr>\n",
       "  </tbody>\n",
       "</table>\n",
       "</div>"
      ],
      "text/plain": [
       "             x         y  Distance Ticker\n",
       "FBCE  0.043366 -0.018374  0.000316   FBCE\n",
       "CFCH  0.042835 -0.018229  0.000391   CFCH\n",
       "ABBD  0.042764 -0.017987  0.000455   ABBD\n",
       "CAHB  0.043378 -0.017658  0.000477   CAHB\n",
       "CCHD  0.042713 -0.018076  0.000491   CCHD"
      ]
     },
     "execution_count": 45,
     "metadata": {},
     "output_type": "execute_result"
    }
   ],
   "source": [
    "closest_points_top50.head()"
   ]
  },
  {
   "cell_type": "markdown",
   "metadata": {
    "colab_type": "text",
    "id": "KOWVyyWQmJqY"
   },
   "source": [
    "#### Plot the results"
   ]
  },
  {
   "cell_type": "code",
   "execution_count": 46,
   "metadata": {
    "colab": {
     "base_uri": "https://localhost:8080/",
     "height": 642
    },
    "colab_type": "code",
    "executionInfo": {
     "elapsed": 1497,
     "status": "ok",
     "timestamp": 1554397435735,
     "user": {
      "displayName": "Marie Imokoyende",
      "photoUrl": "",
      "userId": "13592623342127678396"
     },
     "user_tz": 240
    },
    "id": "ZMfoOyAM0WCZ",
    "outputId": "b1fe9c68-40a3-4f31-f7da-596c42374540"
   },
   "outputs": [
    {
     "data": {
      "image/png": "[encoded data removed]",
      "text/plain": [
       "<Figure size 1440x720 with 2 Axes>"
      ]
     },
     "metadata": {
      "needs_background": "light"
     },
     "output_type": "display_data"
    }
   ],
   "source": [
    "x_i = closest_points_top50['x']*1000\n",
    "y_i = closest_points_top50['y']*100\n",
    "d_i = closest_points_top50['Distance']\n",
    "ticker_i = closest_points_top50['Ticker']\n",
    "fig, ax = plt.subplots(figsize=(20, 10))\n",
    "im = ax.scatter(x_i, y_i, c = d_i, cmap = 'viridis')\n",
    "plt.plot(ref_point[0]*1000, ref_point[1]*100,'r*', markersize = 15)\n",
    "ax.annotate('Futures',(ref_point[0]*1000, ref_point[1]*100))\n",
    "plt.colorbar(im, ax=ax)\n",
    "plt.axis('off')\n",
    "ax.set_title('Period 1: Futures vs Stocks Dataset\\n', fontsize = 24, fontweight='bold')\n",
    "for i, txt in enumerate(ticker_i):\n",
    "    ax.annotate(txt, (x_i[i], y_i[i]))"
   ]
  },
  {
   "cell_type": "markdown",
   "metadata": {
    "colab_type": "text",
    "id": "g3N59MUFfOuu"
   },
   "source": [
    "# Application: Index construction"
   ]
  },
  {
   "cell_type": "markdown",
   "metadata": {
    "colab_type": "text",
    "id": "Wjw4TiKunMwQ"
   },
   "source": [
    "We will use the process described above to create an index.\n",
    "Due to the randomness of the VAE model, we will not obtain the same exact list of top 50 stocks on each run.\n",
    "\n",
    "To make sure that we get a fair representation of the closest 50 points, we will run the VAE model 10 times (re-initializing and retraining it on each run). Then we will take the 50 closest points found on each run to create a dataframe ***closest_points_df*** dataframe of length 500. "
   ]
  },
  {
   "cell_type": "code",
   "execution_count": 47,
   "metadata": {
    "colab": {},
    "colab_type": "code",
    "id": "LuOx8ZGW8Kr-"
   },
   "outputs": [],
   "source": [
    "from datetime import date"
   ]
  },
  {
   "cell_type": "markdown",
   "metadata": {
    "colab_type": "text",
    "id": "wp3fYYVKpCar"
   },
   "source": [
    "## Build the *closest_points_df* dataframe"
   ]
  },
  {
   "cell_type": "code",
   "execution_count": 48,
   "metadata": {
    "colab": {
     "base_uri": "https://localhost:8080/",
     "height": 3587
    },
    "colab_type": "code",
    "executionInfo": {
     "elapsed": 268189,
     "status": "ok",
     "timestamp": 1554397781983,
     "user": {
      "displayName": "Marie Imokoyende",
      "photoUrl": "",
      "userId": "13592623342127678396"
     },
     "user_tz": 240
    },
    "id": "lklmNYer07-v",
    "outputId": "827a5849-0ba1-4b6d-aeb0-54aa3eaf418e"
   },
   "outputs": [
    {
     "name": "stdout",
     "output_type": "stream",
     "text": [
      "Train on 8000 samples, validate on 2000 samples\n",
      "Epoch 1/10\n",
      "8000/8000 [==============================] - 1s 129us/step - loss: 1.0362 - val_loss: 0.3931\n",
      "Epoch 2/10\n",
      "8000/8000 [==============================] - 1s 128us/step - loss: 0.3290 - val_loss: 0.2218\n",
      "Epoch 3/10\n",
      "8000/8000 [==============================] - 1s 128us/step - loss: 0.1739 - val_loss: 0.0651\n",
      "Epoch 4/10\n",
      "8000/8000 [==============================] - 1s 135us/step - loss: 0.1280 - val_loss: 0.1355\n",
      "Epoch 5/10\n",
      "8000/8000 [==============================] - 1s 130us/step - loss: 0.0996 - val_loss: 0.1018\n",
      "Epoch 6/10\n",
      "8000/8000 [==============================] - 1s 127us/step - loss: 0.0760 - val_loss: 0.0619\n",
      "Epoch 7/10\n",
      "8000/8000 [==============================] - 1s 127us/step - loss: 0.0620 - val_loss: 0.0766\n",
      "Epoch 8/10\n",
      "8000/8000 [==============================] - 1s 127us/step - loss: 0.0564 - val_loss: 0.0621\n",
      "Epoch 9/10\n",
      "8000/8000 [==============================] - 1s 123us/step - loss: 0.0554 - val_loss: 0.0481\n",
      "Epoch 10/10\n",
      "8000/8000 [==============================] - 1s 138us/step - loss: 0.0498 - val_loss: 0.0466\n",
      "Train on 8000 samples, validate on 2000 samples\n",
      "Epoch 1/10\n",
      "8000/8000 [==============================] - 1s 134us/step - loss: 1.2381 - val_loss: 0.5908\n",
      "Epoch 2/10\n",
      "8000/8000 [==============================] - 1s 113us/step - loss: 0.3982 - val_loss: 0.1822\n",
      "Epoch 3/10\n",
      "8000/8000 [==============================] - 1s 140us/step - loss: 0.2083 - val_loss: 0.1588\n",
      "Epoch 4/10\n",
      "8000/8000 [==============================] - 1s 129us/step - loss: 0.1472 - val_loss: 0.0760\n",
      "Epoch 5/10\n",
      "8000/8000 [==============================] - 1s 133us/step - loss: 0.1191 - val_loss: 0.1879\n",
      "Epoch 6/10\n",
      "8000/8000 [==============================] - 1s 131us/step - loss: 0.0926 - val_loss: 0.0587\n",
      "Epoch 7/10\n",
      "8000/8000 [==============================] - 1s 129us/step - loss: 0.0753 - val_loss: 0.0626\n",
      "Epoch 8/10\n",
      "8000/8000 [==============================] - 1s 137us/step - loss: 0.0669 - val_loss: 0.0668\n",
      "Epoch 9/10\n",
      "8000/8000 [==============================] - 1s 137us/step - loss: 0.0581 - val_loss: 0.0521\n",
      "Epoch 10/10\n",
      "8000/8000 [==============================] - 1s 132us/step - loss: 0.0533 - val_loss: 0.0499\n",
      "Train on 8000 samples, validate on 2000 samples\n",
      "Epoch 1/10\n",
      "8000/8000 [==============================] - 1s 139us/step - loss: 1.1325 - val_loss: 0.6057\n",
      "Epoch 2/10\n",
      "8000/8000 [==============================] - 1s 89us/step - loss: 0.4320 - val_loss: 0.3884\n",
      "Epoch 3/10\n",
      "8000/8000 [==============================] - 1s 117us/step - loss: 0.2387 - val_loss: 0.2082\n",
      "Epoch 4/10\n",
      "8000/8000 [==============================] - 1s 156us/step - loss: 0.1780 - val_loss: 0.1272\n",
      "Epoch 5/10\n",
      "8000/8000 [==============================] - 1s 130us/step - loss: 0.1361 - val_loss: 0.1377\n",
      "Epoch 6/10\n",
      "8000/8000 [==============================] - 1s 124us/step - loss: 0.1069 - val_loss: 0.1274\n",
      "Epoch 7/10\n",
      "8000/8000 [==============================] - 1s 127us/step - loss: 0.0982 - val_loss: 0.0882\n",
      "Epoch 8/10\n",
      "8000/8000 [==============================] - 1s 131us/step - loss: 0.0883 - val_loss: 0.0859\n",
      "Epoch 9/10\n",
      "8000/8000 [==============================] - 1s 143us/step - loss: 0.0766 - val_loss: 0.0750\n",
      "Epoch 10/10\n",
      "8000/8000 [==============================] - 1s 131us/step - loss: 0.0730 - val_loss: 0.0741\n",
      "Train on 8000 samples, validate on 2000 samples\n",
      "Epoch 1/10\n",
      "8000/8000 [==============================] - 2s 234us/step - loss: 1.1356 - val_loss: 0.5140\n",
      "Epoch 2/10\n",
      "8000/8000 [==============================] - 1s 131us/step - loss: 0.3676 - val_loss: 0.3034\n",
      "Epoch 3/10\n",
      "8000/8000 [==============================] - 1s 127us/step - loss: 0.2093 - val_loss: 0.1123\n",
      "Epoch 4/10\n",
      "8000/8000 [==============================] - 1s 128us/step - loss: 0.1491 - val_loss: 0.0825\n",
      "Epoch 5/10\n",
      "8000/8000 [==============================] - 1s 128us/step - loss: 0.1214 - val_loss: 0.0812\n",
      "Epoch 6/10\n",
      "8000/8000 [==============================] - 1s 148us/step - loss: 0.0967 - val_loss: 0.0838\n",
      "Epoch 7/10\n",
      "8000/8000 [==============================] - 1s 145us/step - loss: 0.0757 - val_loss: 0.0735\n",
      "Epoch 8/10\n",
      "8000/8000 [==============================] - 1s 150us/step - loss: 0.0671 - val_loss: 0.0527\n",
      "Epoch 9/10\n",
      "8000/8000 [==============================] - 1s 137us/step - loss: 0.0575 - val_loss: 0.0492\n",
      "Epoch 10/10\n",
      "8000/8000 [==============================] - 1s 139us/step - loss: 0.0511 - val_loss: 0.0506\n",
      "Train on 8000 samples, validate on 2000 samples\n",
      "Epoch 1/10\n",
      "8000/8000 [==============================] - 1s 184us/step - loss: 1.1649 - val_loss: 0.3830\n",
      "Epoch 2/10\n",
      "8000/8000 [==============================] - 1s 131us/step - loss: 0.4300 - val_loss: 0.2409\n",
      "Epoch 3/10\n",
      "8000/8000 [==============================] - 1s 129us/step - loss: 0.2331 - val_loss: 0.2897\n",
      "Epoch 4/10\n",
      "8000/8000 [==============================] - 1s 132us/step - loss: 0.1782 - val_loss: 0.0851\n",
      "Epoch 5/10\n",
      "8000/8000 [==============================] - 1s 133us/step - loss: 0.1238 - val_loss: 0.2013\n",
      "Epoch 6/10\n",
      "8000/8000 [==============================] - 1s 128us/step - loss: 0.0914 - val_loss: 0.0494\n",
      "Epoch 7/10\n",
      "8000/8000 [==============================] - 1s 129us/step - loss: 0.0686 - val_loss: 0.0635\n",
      "Epoch 8/10\n",
      "8000/8000 [==============================] - 1s 126us/step - loss: 0.0588 - val_loss: 0.0630\n",
      "Epoch 9/10\n",
      "8000/8000 [==============================] - 1s 128us/step - loss: 0.0535 - val_loss: 0.0553\n",
      "Epoch 10/10\n",
      "8000/8000 [==============================] - 1s 142us/step - loss: 0.0510 - val_loss: 0.0550\n",
      "Train on 8000 samples, validate on 2000 samples\n",
      "Epoch 1/10\n",
      "8000/8000 [==============================] - 1s 164us/step - loss: 0.9051 - val_loss: 0.4389\n",
      "Epoch 2/10\n",
      "8000/8000 [==============================] - 1s 85us/step - loss: 0.3705 - val_loss: 0.2286\n",
      "Epoch 3/10\n",
      "8000/8000 [==============================] - 1s 114us/step - loss: 0.1931 - val_loss: 0.0727\n",
      "Epoch 4/10\n",
      "8000/8000 [==============================] - 1s 142us/step - loss: 0.1326 - val_loss: 0.0912\n",
      "Epoch 5/10\n",
      "8000/8000 [==============================] - 1s 142us/step - loss: 0.0969 - val_loss: 0.0821\n",
      "Epoch 6/10\n",
      "8000/8000 [==============================] - 1s 137us/step - loss: 0.0798 - val_loss: 0.0593\n",
      "Epoch 7/10\n",
      "8000/8000 [==============================] - 1s 141us/step - loss: 0.0672 - val_loss: 0.0724\n",
      "Epoch 8/10\n",
      "8000/8000 [==============================] - 1s 137us/step - loss: 0.0587 - val_loss: 0.0612\n",
      "Epoch 9/10\n",
      "8000/8000 [==============================] - 1s 128us/step - loss: 0.0511 - val_loss: 0.0448\n",
      "Epoch 10/10\n",
      "8000/8000 [==============================] - 1s 125us/step - loss: 0.0489 - val_loss: 0.0471\n",
      "Train on 8000 samples, validate on 2000 samples\n",
      "Epoch 1/10\n",
      "8000/8000 [==============================] - 1s 164us/step - loss: 1.2443 - val_loss: 0.5050\n",
      "Epoch 2/10\n",
      "8000/8000 [==============================] - 1s 108us/step - loss: 0.5446 - val_loss: 0.4704\n",
      "Epoch 3/10\n",
      "8000/8000 [==============================] - 1s 133us/step - loss: 0.3241 - val_loss: 0.1810\n",
      "Epoch 4/10\n",
      "8000/8000 [==============================] - 1s 127us/step - loss: 0.2397 - val_loss: 0.2447\n",
      "Epoch 5/10\n",
      "8000/8000 [==============================] - 1s 129us/step - loss: 0.1758 - val_loss: 0.1642\n",
      "Epoch 6/10\n",
      "8000/8000 [==============================] - 1s 129us/step - loss: 0.1236 - val_loss: 0.1298\n",
      "Epoch 7/10\n",
      "8000/8000 [==============================] - 1s 130us/step - loss: 0.0863 - val_loss: 0.0616\n",
      "Epoch 8/10\n",
      "8000/8000 [==============================] - 1s 134us/step - loss: 0.0676 - val_loss: 0.0622\n",
      "Epoch 9/10\n",
      "8000/8000 [==============================] - 1s 134us/step - loss: 0.0587 - val_loss: 0.0722\n",
      "Epoch 10/10\n",
      "8000/8000 [==============================] - 1s 135us/step - loss: 0.0539 - val_loss: 0.0480\n",
      "Train on 8000 samples, validate on 2000 samples\n",
      "Epoch 1/10\n",
      "8000/8000 [==============================] - 2s 211us/step - loss: 1.1167 - val_loss: 0.4311\n",
      "Epoch 2/10\n",
      "8000/8000 [==============================] - 1s 139us/step - loss: 0.3871 - val_loss: 0.3575\n",
      "Epoch 3/10\n",
      "8000/8000 [==============================] - 1s 150us/step - loss: 0.2092 - val_loss: 0.3344\n",
      "Epoch 4/10\n",
      "8000/8000 [==============================] - 1s 129us/step - loss: 0.1670 - val_loss: 0.1493\n",
      "Epoch 5/10\n",
      "8000/8000 [==============================] - 1s 129us/step - loss: 0.1280 - val_loss: 0.0964\n",
      "Epoch 6/10\n"
     ]
    },
    {
     "name": "stdout",
     "output_type": "stream",
     "text": [
      "8000/8000 [==============================] - 1s 133us/step - loss: 0.1100 - val_loss: 0.0890\n",
      "Epoch 7/10\n",
      "8000/8000 [==============================] - 1s 131us/step - loss: 0.0940 - val_loss: 0.0638\n",
      "Epoch 8/10\n",
      "8000/8000 [==============================] - 1s 127us/step - loss: 0.0886 - val_loss: 0.1039\n",
      "Epoch 9/10\n",
      "8000/8000 [==============================] - 1s 124us/step - loss: 0.0840 - val_loss: 0.0697\n",
      "Epoch 10/10\n",
      "8000/8000 [==============================] - 1s 127us/step - loss: 0.0823 - val_loss: 0.0853\n",
      "Train on 8000 samples, validate on 2000 samples\n",
      "Epoch 1/10\n",
      "8000/8000 [==============================] - 2s 279us/step - loss: 11.0050 - val_loss: 0.2360\n",
      "Epoch 2/10\n",
      "8000/8000 [==============================] - 1s 149us/step - loss: 0.2865 - val_loss: 0.3969\n",
      "Epoch 3/10\n",
      "8000/8000 [==============================] - 1s 139us/step - loss: 0.3149 - val_loss: 0.2508\n",
      "Epoch 4/10\n",
      "8000/8000 [==============================] - 1s 138us/step - loss: 0.2346 - val_loss: 0.1985\n",
      "Epoch 5/10\n",
      "8000/8000 [==============================] - 1s 130us/step - loss: 0.1896 - val_loss: 0.0975\n",
      "Epoch 6/10\n",
      "8000/8000 [==============================] - 1s 135us/step - loss: 0.1485 - val_loss: 0.0954\n",
      "Epoch 7/10\n",
      "8000/8000 [==============================] - 1s 142us/step - loss: 0.1195 - val_loss: 0.0759\n",
      "Epoch 8/10\n",
      "8000/8000 [==============================] - 1s 133us/step - loss: 0.0980 - val_loss: 0.0654\n",
      "Epoch 9/10\n",
      "8000/8000 [==============================] - 1s 130us/step - loss: 0.0764 - val_loss: 0.0454\n",
      "Epoch 10/10\n",
      "8000/8000 [==============================] - 1s 133us/step - loss: 0.0633 - val_loss: 0.0507\n",
      "Train on 8000 samples, validate on 2000 samples\n",
      "Epoch 1/10\n",
      "8000/8000 [==============================] - 1s 182us/step - loss: 0.9867 - val_loss: 0.4234\n",
      "Epoch 2/10\n",
      "8000/8000 [==============================] - 1s 121us/step - loss: 0.4127 - val_loss: 0.3552\n",
      "Epoch 3/10\n",
      "8000/8000 [==============================] - 1s 128us/step - loss: 0.2330 - val_loss: 0.3626\n",
      "Epoch 4/10\n",
      "8000/8000 [==============================] - 1s 135us/step - loss: 0.1569 - val_loss: 0.0631\n",
      "Epoch 5/10\n",
      "8000/8000 [==============================] - 1s 129us/step - loss: 0.1134 - val_loss: 0.0855\n",
      "Epoch 6/10\n",
      "8000/8000 [==============================] - 1s 126us/step - loss: 0.0809 - val_loss: 0.0641\n",
      "Epoch 7/10\n",
      "8000/8000 [==============================] - 1s 127us/step - loss: 0.0640 - val_loss: 0.0559\n",
      "Epoch 8/10\n",
      "8000/8000 [==============================] - 1s 126us/step - loss: 0.0558 - val_loss: 0.0559\n",
      "Epoch 9/10\n",
      "8000/8000 [==============================] - 1s 131us/step - loss: 0.0521 - val_loss: 0.0526\n",
      "Epoch 10/10\n",
      "8000/8000 [==============================] - 1s 128us/step - loss: 0.0512 - val_loss: 0.0539\n"
     ]
    }
   ],
   "source": [
    "today = date.today()\n",
    "today_string = str(today.year)+str(today.month)+str(today.day)\n",
    "n_trials = 10\n",
    "path = PATH_FILES + '/Trial_outputs/' #The path should exist prior to execution.\n",
    "\n",
    "# network parameters\n",
    "original_dim = x_train.shape[1]\n",
    "input_shape = (original_dim, )\n",
    "intermediate_dim = 300\n",
    "batch_size = 128\n",
    "latent_dim = 2\n",
    "epochs = 10\n",
    "\n",
    "for i in range(n_trials): # Create the VAE model and get the predictions n_trials(=10) times.\n",
    "  n_rows_sim_paths_matrix = n_tickers_selected * n_simpath_per_ticker\n",
    "  sim_paths_matrix  = np.zeros((n_rows_sim_paths_matrix, len(geoMA_5d_stocks_p1_T.iloc[0])))\n",
    "  for j in range(len(random_tickers_selected)):\n",
    "    random_index = random_tickers_selected[j]\n",
    "    rd_stock_logReturns = np.diff(np.log(geoMA_5d_stocks_T.iloc[random_index]))\n",
    "    for k in range(n_simpath_per_ticker):\n",
    "      sim_path = np.zeros(len(geoMA_5d_stocks_p1_T.iloc[random_index]))\n",
    "      sim_path[0] = geoMA_5d_stocks_p1_T.iloc[random_index][0]\n",
    "      for l in range(1,len(sim_path)):\n",
    "        sim_path[l] = sim_path[0]*np.exp(rd_stock_logReturns[np.random.randint(0, len(rd_stock_logReturns))])\n",
    "      sim_paths_matrix[j*100+k] = sim_path\n",
    "   \n",
    "  shuffled_array = np.random.permutation(sim_paths_matrix)\n",
    "  \n",
    "  x_train = shuffled_array[0:8000]\n",
    "  x_test = shuffled_array[8000:]\n",
    "\n",
    "  # VAE model = encoder + decoder\n",
    "  # build encoder model\n",
    "  inputs = Input(shape=input_shape, name='encoder_input')\n",
    "  x = Dense(intermediate_dim, activation='relu')(inputs)\n",
    "  z_mean = Dense(latent_dim, name='z_mean')(x)\n",
    "  z_log_var = Dense(latent_dim, name='z_log_var')(x)\n",
    "  \n",
    "  # use reparameterization trick to push the sampling out as input\n",
    "  # note that \"output_shape\" isn't necessary with the TensorFlow backend\n",
    "  z = Lambda(sampling, output_shape=(latent_dim,), name='z')([z_mean, z_log_var])\n",
    "  \n",
    "  # instantiate encoder model\n",
    "  encoder = Model(inputs, z_mean)\n",
    "  # build decoder model\n",
    "  latent_inputs = Input(shape=(latent_dim,), name='z_sampling')\n",
    "  x = Dense(intermediate_dim, activation='relu')(latent_inputs)\n",
    "  outputs = Dense(original_dim, activation='sigmoid')(x)\n",
    "  # instantiate decoder model\n",
    "  decoder = Model(latent_inputs, outputs, name='decoder')\n",
    "  # instantiate VAE model\n",
    "  outputs = decoder(encoder(inputs))\n",
    "  vae = Model(inputs, outputs, name='vae_mlp')\n",
    "\n",
    "  vae.compile(optimizer='rmsprop', loss=vae_loss)\n",
    "\n",
    "  results = vae.fit(x_train, x_train,\n",
    "          shuffle=True,\n",
    "          epochs=epochs,\n",
    "          batch_size=batch_size,\n",
    "          validation_data=(x_test, x_test))\n",
    "\n",
    "  encoded_p1 = encoder.predict(matrix_to_test_p1, batch_size=batch_size)\n",
    "  # Convert the predictions into a dataframe\n",
    "  encoded_p1_df = pd.DataFrame(data = encoded_p1, columns = ['x','y'], index = dataframe_to_test_p1.T.index)\n",
    "\n",
    "\n",
    "  ref_point = encoded_p1_df.loc['Futures'].values\n",
    "  encoded_p1_df['Distance'] = scipy.spatial.distance.cdist([ref_point], encoded_p1_df, metric='euclidean')[0]\n",
    "  closest_points = encoded_p1_df.sort_values('Distance', ascending = True)\n",
    "  closest_points_top50 = closest_points.head(51)[1:] #We take head(51), because the Futures reference point is the first entry\n",
    "  closest_points_top50['Ticker'] = closest_points_top50.index\n",
    "  \n",
    "  # Save the top 50 closest points obtained for the cuurent run in a .xlsx file\n",
    "  loop_currentfilename = path + 'Futures_vs_stocks_period1_'+today_string+'_trial_'+str(i+1)+'.xlsx'\n",
    "  closest_points_top50.to_excel(loop_currentfilename)"
   ]
  },
  {
   "cell_type": "markdown",
   "metadata": {
    "colab_type": "text",
    "id": "hupsO_KKV-oe"
   },
   "source": [
    "### Build the dataframe using the excel files saved"
   ]
  },
  {
   "cell_type": "code",
   "execution_count": 49,
   "metadata": {
    "colab": {},
    "colab_type": "code",
    "id": "p7moXwuw_YQ0"
   },
   "outputs": [],
   "source": [
    "results = os.listdir(PATH_FILES + '/Trial_outputs/')\n",
    "results_df = pd.DataFrame()\n",
    "for f in results:\n",
    "  path = PATH_FILES + '/Trial_outputs/'+str(f)\n",
    "  data = pd.read_excel(path)\n",
    "  results_df = results_df.append(data)"
   ]
  },
  {
   "cell_type": "code",
   "execution_count": 50,
   "metadata": {
    "colab": {
     "base_uri": "https://localhost:8080/",
     "height": 204
    },
    "colab_type": "code",
    "executionInfo": {
     "elapsed": 799,
     "status": "ok",
     "timestamp": 1554398137230,
     "user": {
      "displayName": "Marie Imokoyende",
      "photoUrl": "",
      "userId": "13592623342127678396"
     },
     "user_tz": 240
    },
    "id": "Fg8ksBa5WD9A",
    "outputId": "60e451d9-56ef-4f1a-c94e-f590fbc75b1f"
   },
   "outputs": [
    {
     "data": {
      "text/html": [
       "<div>\n",
       "<style scoped>\n",
       "    .dataframe tbody tr th:only-of-type {\n",
       "        vertical-align: middle;\n",
       "    }\n",
       "\n",
       "    .dataframe tbody tr th {\n",
       "        vertical-align: top;\n",
       "    }\n",
       "\n",
       "    .dataframe thead th {\n",
       "        text-align: right;\n",
       "    }\n",
       "</style>\n",
       "<table border=\"1\" class=\"dataframe\">\n",
       "  <thead>\n",
       "    <tr style=\"text-align: right;\">\n",
       "      <th></th>\n",
       "      <th>x</th>\n",
       "      <th>y</th>\n",
       "      <th>Distance</th>\n",
       "      <th>Ticker</th>\n",
       "    </tr>\n",
       "  </thead>\n",
       "  <tbody>\n",
       "    <tr>\n",
       "      <th>FABF</th>\n",
       "      <td>-0.025866</td>\n",
       "      <td>0.074853</td>\n",
       "      <td>0.000006</td>\n",
       "      <td>FABF</td>\n",
       "    </tr>\n",
       "    <tr>\n",
       "      <th>AHAE</th>\n",
       "      <td>-0.025992</td>\n",
       "      <td>0.074828</td>\n",
       "      <td>0.000123</td>\n",
       "      <td>AHAE</td>\n",
       "    </tr>\n",
       "    <tr>\n",
       "      <th>EAEE</th>\n",
       "      <td>-0.025972</td>\n",
       "      <td>0.074977</td>\n",
       "      <td>0.000160</td>\n",
       "      <td>EAEE</td>\n",
       "    </tr>\n",
       "    <tr>\n",
       "      <th>HHEG</th>\n",
       "      <td>-0.026045</td>\n",
       "      <td>0.074922</td>\n",
       "      <td>0.000186</td>\n",
       "      <td>HHEG</td>\n",
       "    </tr>\n",
       "    <tr>\n",
       "      <th>EFGB</th>\n",
       "      <td>-0.025724</td>\n",
       "      <td>0.074728</td>\n",
       "      <td>0.000193</td>\n",
       "      <td>EFGB</td>\n",
       "    </tr>\n",
       "  </tbody>\n",
       "</table>\n",
       "</div>"
      ],
      "text/plain": [
       "             x         y  Distance Ticker\n",
       "FABF -0.025866  0.074853  0.000006   FABF\n",
       "AHAE -0.025992  0.074828  0.000123   AHAE\n",
       "EAEE -0.025972  0.074977  0.000160   EAEE\n",
       "HHEG -0.026045  0.074922  0.000186   HHEG\n",
       "EFGB -0.025724  0.074728  0.000193   EFGB"
      ]
     },
     "execution_count": 50,
     "metadata": {},
     "output_type": "execute_result"
    }
   ],
   "source": [
    "results_df.head()"
   ]
  },
  {
   "cell_type": "markdown",
   "metadata": {
    "colab_type": "text",
    "id": "OESRzjr1GrMU"
   },
   "source": [
    "We sort all the points by distance (in ascending order)"
   ]
  },
  {
   "cell_type": "code",
   "execution_count": 51,
   "metadata": {
    "colab": {},
    "colab_type": "code",
    "id": "LqE1n7JHWUdA"
   },
   "outputs": [],
   "source": [
    "sorted_by_dist = results_df.sort_values('Distance', ascending = True)"
   ]
  },
  {
   "cell_type": "code",
   "execution_count": 52,
   "metadata": {
    "colab": {
     "base_uri": "https://localhost:8080/",
     "height": 204
    },
    "colab_type": "code",
    "executionInfo": {
     "elapsed": 590,
     "status": "ok",
     "timestamp": 1554398373173,
     "user": {
      "displayName": "Marie Imokoyende",
      "photoUrl": "",
      "userId": "13592623342127678396"
     },
     "user_tz": 240
    },
    "id": "Rv-IdU3uXL7P",
    "outputId": "25e76ba8-4c8f-4e4a-a609-cf8797718c6f"
   },
   "outputs": [
    {
     "data": {
      "text/html": [
       "<div>\n",
       "<style scoped>\n",
       "    .dataframe tbody tr th:only-of-type {\n",
       "        vertical-align: middle;\n",
       "    }\n",
       "\n",
       "    .dataframe tbody tr th {\n",
       "        vertical-align: top;\n",
       "    }\n",
       "\n",
       "    .dataframe thead th {\n",
       "        text-align: right;\n",
       "    }\n",
       "</style>\n",
       "<table border=\"1\" class=\"dataframe\">\n",
       "  <thead>\n",
       "    <tr style=\"text-align: right;\">\n",
       "      <th></th>\n",
       "      <th>x</th>\n",
       "      <th>y</th>\n",
       "      <th>Distance</th>\n",
       "      <th>Ticker</th>\n",
       "    </tr>\n",
       "  </thead>\n",
       "  <tbody>\n",
       "    <tr>\n",
       "      <th>FABF</th>\n",
       "      <td>-0.025866</td>\n",
       "      <td>0.074853</td>\n",
       "      <td>0.000006</td>\n",
       "      <td>FABF</td>\n",
       "    </tr>\n",
       "    <tr>\n",
       "      <th>EAAF</th>\n",
       "      <td>0.080422</td>\n",
       "      <td>-0.011364</td>\n",
       "      <td>0.000029</td>\n",
       "      <td>EAAF</td>\n",
       "    </tr>\n",
       "    <tr>\n",
       "      <th>EEHB</th>\n",
       "      <td>0.063133</td>\n",
       "      <td>-0.023954</td>\n",
       "      <td>0.000076</td>\n",
       "      <td>EEHB</td>\n",
       "    </tr>\n",
       "    <tr>\n",
       "      <th>AHAE</th>\n",
       "      <td>-0.025992</td>\n",
       "      <td>0.074828</td>\n",
       "      <td>0.000123</td>\n",
       "      <td>AHAE</td>\n",
       "    </tr>\n",
       "    <tr>\n",
       "      <th>BGFB</th>\n",
       "      <td>-0.036067</td>\n",
       "      <td>0.151240</td>\n",
       "      <td>0.000139</td>\n",
       "      <td>BGFB</td>\n",
       "    </tr>\n",
       "  </tbody>\n",
       "</table>\n",
       "</div>"
      ],
      "text/plain": [
       "             x         y  Distance Ticker\n",
       "FABF -0.025866  0.074853  0.000006   FABF\n",
       "EAAF  0.080422 -0.011364  0.000029   EAAF\n",
       "EEHB  0.063133 -0.023954  0.000076   EEHB\n",
       "AHAE -0.025992  0.074828  0.000123   AHAE\n",
       "BGFB -0.036067  0.151240  0.000139   BGFB"
      ]
     },
     "execution_count": 52,
     "metadata": {},
     "output_type": "execute_result"
    }
   ],
   "source": [
    "# We verify:\n",
    "sorted_by_dist.head()"
   ]
  },
  {
   "cell_type": "code",
   "execution_count": 53,
   "metadata": {
    "colab": {
     "base_uri": "https://localhost:8080/",
     "height": 34
    },
    "colab_type": "code",
    "executionInfo": {
     "elapsed": 591,
     "status": "ok",
     "timestamp": 1554398422656,
     "user": {
      "displayName": "Marie Imokoyende",
      "photoUrl": "",
      "userId": "13592623342127678396"
     },
     "user_tz": 240
    },
    "id": "H4CktKRoXOGR",
    "outputId": "e85f3078-da2c-455e-e8b1-51f3d24216eb"
   },
   "outputs": [
    {
     "data": {
      "text/plain": [
       "500"
      ]
     },
     "execution_count": 53,
     "metadata": {},
     "output_type": "execute_result"
    }
   ],
   "source": [
    "len(sorted_by_dist)"
   ]
  },
  {
   "cell_type": "markdown",
   "metadata": {
    "colab_type": "text",
    "id": "GbZ3pmnHG1JK"
   },
   "source": [
    "We drop the duplicate tickers, keeping only the first occurance."
   ]
  },
  {
   "cell_type": "code",
   "execution_count": 54,
   "metadata": {
    "colab": {},
    "colab_type": "code",
    "id": "ppkyLapoXaMA"
   },
   "outputs": [],
   "source": [
    "sorted_by_dist.drop_duplicates(subset='Ticker', keep='first', inplace = True)"
   ]
  },
  {
   "cell_type": "code",
   "execution_count": 55,
   "metadata": {
    "colab": {
     "base_uri": "https://localhost:8080/",
     "height": 34
    },
    "colab_type": "code",
    "executionInfo": {
     "elapsed": 666,
     "status": "ok",
     "timestamp": 1554398450729,
     "user": {
      "displayName": "Marie Imokoyende",
      "photoUrl": "",
      "userId": "13592623342127678396"
     },
     "user_tz": 240
    },
    "id": "WJ9VJq0uXfY1",
    "outputId": "72edc289-ac66-4ca7-ad61-5af3da35df94"
   },
   "outputs": [
    {
     "data": {
      "text/plain": [
       "260"
      ]
     },
     "execution_count": 55,
     "metadata": {},
     "output_type": "execute_result"
    }
   ],
   "source": [
    "len(sorted_by_dist)"
   ]
  },
  {
   "cell_type": "markdown",
   "metadata": {
    "colab_type": "text",
    "id": "VpK9-c5zf6ph"
   },
   "source": [
    "## Compute the weights of each stock"
   ]
  },
  {
   "cell_type": "markdown",
   "metadata": {
    "colab_type": "text",
    "id": "ABjPWldkf_E9"
   },
   "source": [
    "We calculate the weight of each stock such that the points closest to the futures contract point will get a higher weight than the ones further from it.\n",
    "\n",
    "With non anonymized stock data, it is important to filter the results obtained to keep the market capitalization range we want and to also remove outliers (stocks that are not related to the futures contract)  before computing the index weights."
   ]
  },
  {
   "cell_type": "code",
   "execution_count": 56,
   "metadata": {
    "colab": {
     "base_uri": "https://localhost:8080/",
     "height": 119
    },
    "colab_type": "code",
    "executionInfo": {
     "elapsed": 601,
     "status": "ok",
     "timestamp": 1554398535182,
     "user": {
      "displayName": "Marie Imokoyende",
      "photoUrl": "",
      "userId": "13592623342127678396"
     },
     "user_tz": 240
    },
    "id": "YzDnz4FmXkvC",
    "outputId": "d7c8a12f-c003-4f94-9231-a204c4fd88a0"
   },
   "outputs": [
    {
     "name": "stderr",
     "output_type": "stream",
     "text": [
      "d:\\uoft-work\\handson-ml\\env\\lib\\site-packages\\ipykernel_launcher.py:3: SettingWithCopyWarning: \n",
      "A value is trying to be set on a copy of a slice from a DataFrame.\n",
      "Try using .loc[row_indexer,col_indexer] = value instead\n",
      "\n",
      "See the caveats in the documentation: http://pandas.pydata.org/pandas-docs/stable/indexing.html#indexing-view-versus-copy\n",
      "  This is separate from the ipykernel package so we can avoid doing imports until\n"
     ]
    }
   ],
   "source": [
    "# Calculate the weights\n",
    "top50 = sorted_by_dist.head(50)\n",
    "top50['Weight'] = (1/top50['Distance'])/np.sum(1/top50['Distance'])"
   ]
  },
  {
   "cell_type": "code",
   "execution_count": 57,
   "metadata": {
    "colab": {
     "base_uri": "https://localhost:8080/",
     "height": 204
    },
    "colab_type": "code",
    "executionInfo": {
     "elapsed": 846,
     "status": "ok",
     "timestamp": 1554398546719,
     "user": {
      "displayName": "Marie Imokoyende",
      "photoUrl": "",
      "userId": "13592623342127678396"
     },
     "user_tz": 240
    },
    "id": "OR5zVKsuX1pM",
    "outputId": "4ba25009-36c1-4c77-9997-700aa2556da7"
   },
   "outputs": [
    {
     "data": {
      "text/html": [
       "<div>\n",
       "<style scoped>\n",
       "    .dataframe tbody tr th:only-of-type {\n",
       "        vertical-align: middle;\n",
       "    }\n",
       "\n",
       "    .dataframe tbody tr th {\n",
       "        vertical-align: top;\n",
       "    }\n",
       "\n",
       "    .dataframe thead th {\n",
       "        text-align: right;\n",
       "    }\n",
       "</style>\n",
       "<table border=\"1\" class=\"dataframe\">\n",
       "  <thead>\n",
       "    <tr style=\"text-align: right;\">\n",
       "      <th></th>\n",
       "      <th>x</th>\n",
       "      <th>y</th>\n",
       "      <th>Distance</th>\n",
       "      <th>Ticker</th>\n",
       "      <th>Weight</th>\n",
       "    </tr>\n",
       "  </thead>\n",
       "  <tbody>\n",
       "    <tr>\n",
       "      <th>FABF</th>\n",
       "      <td>-0.025866</td>\n",
       "      <td>0.074853</td>\n",
       "      <td>0.000006</td>\n",
       "      <td>FABF</td>\n",
       "      <td>0.396408</td>\n",
       "    </tr>\n",
       "    <tr>\n",
       "      <th>EAAF</th>\n",
       "      <td>0.080422</td>\n",
       "      <td>-0.011364</td>\n",
       "      <td>0.000029</td>\n",
       "      <td>EAAF</td>\n",
       "      <td>0.084758</td>\n",
       "    </tr>\n",
       "    <tr>\n",
       "      <th>EEHB</th>\n",
       "      <td>0.063133</td>\n",
       "      <td>-0.023954</td>\n",
       "      <td>0.000076</td>\n",
       "      <td>EEHB</td>\n",
       "      <td>0.032279</td>\n",
       "    </tr>\n",
       "    <tr>\n",
       "      <th>AHAE</th>\n",
       "      <td>-0.025992</td>\n",
       "      <td>0.074828</td>\n",
       "      <td>0.000123</td>\n",
       "      <td>AHAE</td>\n",
       "      <td>0.019997</td>\n",
       "    </tr>\n",
       "    <tr>\n",
       "      <th>BGFB</th>\n",
       "      <td>-0.036067</td>\n",
       "      <td>0.151240</td>\n",
       "      <td>0.000139</td>\n",
       "      <td>BGFB</td>\n",
       "      <td>0.017639</td>\n",
       "    </tr>\n",
       "  </tbody>\n",
       "</table>\n",
       "</div>"
      ],
      "text/plain": [
       "             x         y  Distance Ticker    Weight\n",
       "FABF -0.025866  0.074853  0.000006   FABF  0.396408\n",
       "EAAF  0.080422 -0.011364  0.000029   EAAF  0.084758\n",
       "EEHB  0.063133 -0.023954  0.000076   EEHB  0.032279\n",
       "AHAE -0.025992  0.074828  0.000123   AHAE  0.019997\n",
       "BGFB -0.036067  0.151240  0.000139   BGFB  0.017639"
      ]
     },
     "execution_count": 57,
     "metadata": {},
     "output_type": "execute_result"
    }
   ],
   "source": [
    "top50.head()"
   ]
  },
  {
   "cell_type": "markdown",
   "metadata": {
    "colab_type": "text",
    "id": "JJer00CYg3LG"
   },
   "source": [
    "## Determine the number of shares of each ticker"
   ]
  },
  {
   "cell_type": "markdown",
   "metadata": {
    "colab_type": "text",
    "id": "SZIRsF66YsIO"
   },
   "source": [
    "### Load the stock data"
   ]
  },
  {
   "cell_type": "code",
   "execution_count": 58,
   "metadata": {
    "colab": {},
    "colab_type": "code",
    "id": "PdZlDEbDX4aN"
   },
   "outputs": [],
   "source": [
    "stock_data = pd.read_excel(PATH_FILES + '/stocks_data.xlsx')\n",
    "\n",
    "# Remove the weekend and holidays\n",
    "# We will use a well known stock (anonymized ticker: 'EAGH') as our reference data to detect weekends and public holidays\n",
    "stock_data = stock_data[pd.notnull(stock_data['EAGH'])]\n",
    "\n",
    "#After removing weekend and holidays, we clean the data further by removing columns which still contains NaN values\n",
    "#Drop tickers for which there are NaN values\n",
    "stock_data.dropna(axis='columns', inplace = True)\n",
    "\n",
    "# We further drop all rows with 0\n",
    "stock_data = stock_data[(stock_data != 0)]\n",
    "\n",
    "#Get the stock prices for the top 50 stocks we selected\n",
    "stock_data_top50 = stock_data[top50['Ticker']]"
   ]
  },
  {
   "cell_type": "code",
   "execution_count": 59,
   "metadata": {
    "colab": {},
    "colab_type": "code",
    "id": "PK7H9swdZSnN"
   },
   "outputs": [],
   "source": [
    "#Get the stock prices on January 4th 2016\n",
    "\n",
    "jan4_2016_stockPrice = np.zeros(len(stock_data_top50.columns))\n",
    "for i in range(len(jan4_2016_stockPrice)):\n",
    "  if stock_data_top50.columns[i] == top50['Ticker'].iloc[i]:\n",
    "    jan4_2016_stockPrice[i] = stock_data_top50[stock_data_top50.columns[i]].iloc[0]"
   ]
  },
  {
   "cell_type": "code",
   "execution_count": 60,
   "metadata": {
    "colab": {
     "base_uri": "https://localhost:8080/",
     "height": 119
    },
    "colab_type": "code",
    "executionInfo": {
     "elapsed": 593,
     "status": "ok",
     "timestamp": 1554399075075,
     "user": {
      "displayName": "Marie Imokoyende",
      "photoUrl": "",
      "userId": "13592623342127678396"
     },
     "user_tz": 240
    },
    "id": "ONO5vdu-Z4Q-",
    "outputId": "617e0a84-7c62-4ac3-c22e-cb923e90852d"
   },
   "outputs": [
    {
     "name": "stderr",
     "output_type": "stream",
     "text": [
      "d:\\uoft-work\\handson-ml\\env\\lib\\site-packages\\ipykernel_launcher.py:1: SettingWithCopyWarning: \n",
      "A value is trying to be set on a copy of a slice from a DataFrame.\n",
      "Try using .loc[row_indexer,col_indexer] = value instead\n",
      "\n",
      "See the caveats in the documentation: http://pandas.pydata.org/pandas-docs/stable/indexing.html#indexing-view-versus-copy\n",
      "  \"\"\"Entry point for launching an IPython kernel.\n"
     ]
    }
   ],
   "source": [
    "top50['Price Jan4_2016'] = jan4_2016_stockPrice"
   ]
  },
  {
   "cell_type": "code",
   "execution_count": 61,
   "metadata": {
    "colab": {
     "base_uri": "https://localhost:8080/",
     "height": 204
    },
    "colab_type": "code",
    "executionInfo": {
     "elapsed": 615,
     "status": "ok",
     "timestamp": 1554399077255,
     "user": {
      "displayName": "Marie Imokoyende",
      "photoUrl": "",
      "userId": "13592623342127678396"
     },
     "user_tz": 240
    },
    "id": "_adY1KV-Zrxy",
    "outputId": "8afc7373-3bea-4ee0-a325-a32c1c60eacc"
   },
   "outputs": [
    {
     "data": {
      "text/html": [
       "<div>\n",
       "<style scoped>\n",
       "    .dataframe tbody tr th:only-of-type {\n",
       "        vertical-align: middle;\n",
       "    }\n",
       "\n",
       "    .dataframe tbody tr th {\n",
       "        vertical-align: top;\n",
       "    }\n",
       "\n",
       "    .dataframe thead th {\n",
       "        text-align: right;\n",
       "    }\n",
       "</style>\n",
       "<table border=\"1\" class=\"dataframe\">\n",
       "  <thead>\n",
       "    <tr style=\"text-align: right;\">\n",
       "      <th></th>\n",
       "      <th>x</th>\n",
       "      <th>y</th>\n",
       "      <th>Distance</th>\n",
       "      <th>Ticker</th>\n",
       "      <th>Weight</th>\n",
       "      <th>Price Jan4_2016</th>\n",
       "    </tr>\n",
       "  </thead>\n",
       "  <tbody>\n",
       "    <tr>\n",
       "      <th>FABF</th>\n",
       "      <td>-0.025866</td>\n",
       "      <td>0.074853</td>\n",
       "      <td>0.000006</td>\n",
       "      <td>FABF</td>\n",
       "      <td>0.396408</td>\n",
       "      <td>14.27</td>\n",
       "    </tr>\n",
       "    <tr>\n",
       "      <th>EAAF</th>\n",
       "      <td>0.080422</td>\n",
       "      <td>-0.011364</td>\n",
       "      <td>0.000029</td>\n",
       "      <td>EAAF</td>\n",
       "      <td>0.084758</td>\n",
       "      <td>1.15</td>\n",
       "    </tr>\n",
       "    <tr>\n",
       "      <th>EEHB</th>\n",
       "      <td>0.063133</td>\n",
       "      <td>-0.023954</td>\n",
       "      <td>0.000076</td>\n",
       "      <td>EEHB</td>\n",
       "      <td>0.032279</td>\n",
       "      <td>222.40</td>\n",
       "    </tr>\n",
       "    <tr>\n",
       "      <th>AHAE</th>\n",
       "      <td>-0.025992</td>\n",
       "      <td>0.074828</td>\n",
       "      <td>0.000123</td>\n",
       "      <td>AHAE</td>\n",
       "      <td>0.019997</td>\n",
       "      <td>111.11</td>\n",
       "    </tr>\n",
       "    <tr>\n",
       "      <th>BGFB</th>\n",
       "      <td>-0.036067</td>\n",
       "      <td>0.151240</td>\n",
       "      <td>0.000139</td>\n",
       "      <td>BGFB</td>\n",
       "      <td>0.017639</td>\n",
       "      <td>167.58</td>\n",
       "    </tr>\n",
       "  </tbody>\n",
       "</table>\n",
       "</div>"
      ],
      "text/plain": [
       "             x         y  Distance Ticker    Weight  Price Jan4_2016\n",
       "FABF -0.025866  0.074853  0.000006   FABF  0.396408            14.27\n",
       "EAAF  0.080422 -0.011364  0.000029   EAAF  0.084758             1.15\n",
       "EEHB  0.063133 -0.023954  0.000076   EEHB  0.032279           222.40\n",
       "AHAE -0.025992  0.074828  0.000123   AHAE  0.019997           111.11\n",
       "BGFB -0.036067  0.151240  0.000139   BGFB  0.017639           167.58"
      ]
     },
     "execution_count": 61,
     "metadata": {},
     "output_type": "execute_result"
    }
   ],
   "source": [
    "top50.head()"
   ]
  },
  {
   "cell_type": "markdown",
   "metadata": {
    "colab_type": "text",
    "id": "w4bdYbXihz_M"
   },
   "source": [
    "### Compute the number of shares"
   ]
  },
  {
   "cell_type": "code",
   "execution_count": 62,
   "metadata": {
    "colab": {
     "base_uri": "https://localhost:8080/",
     "height": 119
    },
    "colab_type": "code",
    "executionInfo": {
     "elapsed": 1134,
     "status": "ok",
     "timestamp": 1554399236356,
     "user": {
      "displayName": "Marie Imokoyende",
      "photoUrl": "",
      "userId": "13592623342127678396"
     },
     "user_tz": 240
    },
    "id": "vws5EDiKZxy_",
    "outputId": "2fbfab91-1ada-4df7-c69c-82bdf3cd8a0a"
   },
   "outputs": [
    {
     "name": "stderr",
     "output_type": "stream",
     "text": [
      "d:\\uoft-work\\handson-ml\\env\\lib\\site-packages\\ipykernel_launcher.py:8: SettingWithCopyWarning: \n",
      "A value is trying to be set on a copy of a slice from a DataFrame.\n",
      "Try using .loc[row_indexer,col_indexer] = value instead\n",
      "\n",
      "See the caveats in the documentation: http://pandas.pydata.org/pandas-docs/stable/indexing.html#indexing-view-versus-copy\n",
      "  \n"
     ]
    }
   ],
   "source": [
    "net_assets = 10000000 # We chose net assets = 10 million (in the currency of the stock market)\n",
    "\n",
    "numShares = np.zeros(len(stock_data_top50.columns))\n",
    "for i in range(len(jan4_2016_stockPrice)):\n",
    "  if stock_data_top50.columns[i] == top50['Ticker'].iloc[i]:\n",
    "    numShares[i] = int(net_assets*top50['Weight'].iloc[i]/top50['Price Jan4_2016'].iloc[i])\n",
    "    \n",
    "top50['numShares'] = numShares"
   ]
  },
  {
   "cell_type": "code",
   "execution_count": 63,
   "metadata": {
    "colab": {
     "base_uri": "https://localhost:8080/",
     "height": 204
    },
    "colab_type": "code",
    "executionInfo": {
     "elapsed": 801,
     "status": "ok",
     "timestamp": 1554399246516,
     "user": {
      "displayName": "Marie Imokoyende",
      "photoUrl": "",
      "userId": "13592623342127678396"
     },
     "user_tz": 240
    },
    "id": "qWKNZ5y4agsv",
    "outputId": "b43876b7-e251-4e04-9a68-4d83d1983580"
   },
   "outputs": [
    {
     "data": {
      "text/html": [
       "<div>\n",
       "<style scoped>\n",
       "    .dataframe tbody tr th:only-of-type {\n",
       "        vertical-align: middle;\n",
       "    }\n",
       "\n",
       "    .dataframe tbody tr th {\n",
       "        vertical-align: top;\n",
       "    }\n",
       "\n",
       "    .dataframe thead th {\n",
       "        text-align: right;\n",
       "    }\n",
       "</style>\n",
       "<table border=\"1\" class=\"dataframe\">\n",
       "  <thead>\n",
       "    <tr style=\"text-align: right;\">\n",
       "      <th></th>\n",
       "      <th>x</th>\n",
       "      <th>y</th>\n",
       "      <th>Distance</th>\n",
       "      <th>Ticker</th>\n",
       "      <th>Weight</th>\n",
       "      <th>Price Jan4_2016</th>\n",
       "      <th>numShares</th>\n",
       "    </tr>\n",
       "  </thead>\n",
       "  <tbody>\n",
       "    <tr>\n",
       "      <th>FABF</th>\n",
       "      <td>-0.025866</td>\n",
       "      <td>0.074853</td>\n",
       "      <td>0.000006</td>\n",
       "      <td>FABF</td>\n",
       "      <td>0.396408</td>\n",
       "      <td>14.27</td>\n",
       "      <td>277791.0</td>\n",
       "    </tr>\n",
       "    <tr>\n",
       "      <th>EAAF</th>\n",
       "      <td>0.080422</td>\n",
       "      <td>-0.011364</td>\n",
       "      <td>0.000029</td>\n",
       "      <td>EAAF</td>\n",
       "      <td>0.084758</td>\n",
       "      <td>1.15</td>\n",
       "      <td>737024.0</td>\n",
       "    </tr>\n",
       "    <tr>\n",
       "      <th>EEHB</th>\n",
       "      <td>0.063133</td>\n",
       "      <td>-0.023954</td>\n",
       "      <td>0.000076</td>\n",
       "      <td>EEHB</td>\n",
       "      <td>0.032279</td>\n",
       "      <td>222.40</td>\n",
       "      <td>1451.0</td>\n",
       "    </tr>\n",
       "    <tr>\n",
       "      <th>AHAE</th>\n",
       "      <td>-0.025992</td>\n",
       "      <td>0.074828</td>\n",
       "      <td>0.000123</td>\n",
       "      <td>AHAE</td>\n",
       "      <td>0.019997</td>\n",
       "      <td>111.11</td>\n",
       "      <td>1799.0</td>\n",
       "    </tr>\n",
       "    <tr>\n",
       "      <th>BGFB</th>\n",
       "      <td>-0.036067</td>\n",
       "      <td>0.151240</td>\n",
       "      <td>0.000139</td>\n",
       "      <td>BGFB</td>\n",
       "      <td>0.017639</td>\n",
       "      <td>167.58</td>\n",
       "      <td>1052.0</td>\n",
       "    </tr>\n",
       "  </tbody>\n",
       "</table>\n",
       "</div>"
      ],
      "text/plain": [
       "             x         y  Distance Ticker    Weight  Price Jan4_2016  \\\n",
       "FABF -0.025866  0.074853  0.000006   FABF  0.396408            14.27   \n",
       "EAAF  0.080422 -0.011364  0.000029   EAAF  0.084758             1.15   \n",
       "EEHB  0.063133 -0.023954  0.000076   EEHB  0.032279           222.40   \n",
       "AHAE -0.025992  0.074828  0.000123   AHAE  0.019997           111.11   \n",
       "BGFB -0.036067  0.151240  0.000139   BGFB  0.017639           167.58   \n",
       "\n",
       "      numShares  \n",
       "FABF   277791.0  \n",
       "EAAF   737024.0  \n",
       "EEHB     1451.0  \n",
       "AHAE     1799.0  \n",
       "BGFB     1052.0  "
      ]
     },
     "execution_count": 63,
     "metadata": {},
     "output_type": "execute_result"
    }
   ],
   "source": [
    "top50.head()"
   ]
  },
  {
   "cell_type": "markdown",
   "metadata": {
    "colab_type": "text",
    "id": "FOKfGuVgh65O"
   },
   "source": [
    "## Construct the index"
   ]
  },
  {
   "cell_type": "markdown",
   "metadata": {
    "colab_type": "text",
    "id": "1B7ro1Fbaqjn"
   },
   "source": [
    "To construct the index, we will use the Laspeyres index method which is described in the S&P Dow Jones Indices [Index Mathematics Methodology](https://us.spindices.com/documents/methodologies/methodology-index-math.pdf )."
   ]
  },
  {
   "cell_type": "code",
   "execution_count": 64,
   "metadata": {
    "colab": {},
    "colab_type": "code",
    "id": "VhCk_lo7ajRo"
   },
   "outputs": [
    {
     "ename": "NameError",
     "evalue": "name 'Laspeyres' is not defined",
     "output_type": "error",
     "traceback": [
      "\u001b[1;31m---------------------------------------------------------------------------\u001b[0m",
      "\u001b[1;31mNameError\u001b[0m                                 Traceback (most recent call last)",
      "\u001b[1;32m<ipython-input-64-00056da907f0>\u001b[0m in \u001b[0;36m<module>\u001b[1;34m\u001b[0m\n\u001b[0;32m      1\u001b[0m \u001b[0mstock_index\u001b[0m \u001b[1;33m=\u001b[0m \u001b[0mnp\u001b[0m\u001b[1;33m.\u001b[0m\u001b[0mzeros\u001b[0m\u001b[1;33m(\u001b[0m\u001b[0mlen\u001b[0m\u001b[1;33m(\u001b[0m\u001b[0mstock_data_top50\u001b[0m\u001b[1;33m)\u001b[0m\u001b[1;33m)\u001b[0m\u001b[1;33m\u001b[0m\u001b[1;33m\u001b[0m\u001b[0m\n\u001b[0;32m      2\u001b[0m \u001b[1;33m\u001b[0m\u001b[0m\n\u001b[1;32m----> 3\u001b[1;33m \u001b[1;32mfor\u001b[0m \u001b[0mi\u001b[0m \u001b[1;32min\u001b[0m \u001b[0mrange\u001b[0m\u001b[1;33m(\u001b[0m\u001b[0mlen\u001b[0m\u001b[1;33m(\u001b[0m\u001b[0mLaspeyres\u001b[0m\u001b[1;33m)\u001b[0m\u001b[1;33m)\u001b[0m\u001b[1;33m:\u001b[0m\u001b[1;33m\u001b[0m\u001b[1;33m\u001b[0m\u001b[0m\n\u001b[0m\u001b[0;32m      4\u001b[0m   \u001b[0msum_num\u001b[0m \u001b[1;33m=\u001b[0m \u001b[1;36m0\u001b[0m\u001b[1;33m\u001b[0m\u001b[1;33m\u001b[0m\u001b[0m\n\u001b[0;32m      5\u001b[0m   \u001b[0msum_denom\u001b[0m \u001b[1;33m=\u001b[0m \u001b[1;36m0\u001b[0m\u001b[1;33m\u001b[0m\u001b[1;33m\u001b[0m\u001b[0m\n",
      "\u001b[1;31mNameError\u001b[0m: name 'Laspeyres' is not defined"
     ]
    }
   ],
   "source": [
    "stock_index = np.zeros(len(stock_data_top50))\n",
    "\n",
    "for i in range(len(Laspeyres)):\n",
    "  sum_num = 0\n",
    "  sum_denom = 0\n",
    "  for j in range(len(stock_data_top50.columns)):\n",
    "    sum_num = sum_num + stock_data_top50[stock_data_top50.columns[j]].iloc[i]*top50['numShares'].iloc[j]\n",
    "    sum_denom = sum_denom + stock_data_top50[stock_data_top50.columns[j]].iloc[0]*top50['numShares'].iloc[j]\n",
    "  stock_index[i] = sum_num /sum_denom"
   ]
  },
  {
   "cell_type": "code",
   "execution_count": null,
   "metadata": {
    "colab": {},
    "colab_type": "code",
    "id": "cvMCzkGBbxht"
   },
   "outputs": [],
   "source": [
    "stock_index_df = pd.DataFrame(stock_index*100, columns =  ['stock_index'], index = stock_data_top50.index)"
   ]
  },
  {
   "cell_type": "markdown",
   "metadata": {
    "colab_type": "text",
    "id": "bDSHqoUmjBz6"
   },
   "source": [
    "We arbitrarily start the index at 100."
   ]
  },
  {
   "cell_type": "code",
   "execution_count": null,
   "metadata": {
    "colab": {
     "base_uri": "https://localhost:8080/",
     "height": 474
    },
    "colab_type": "code",
    "executionInfo": {
     "elapsed": 654,
     "status": "ok",
     "timestamp": 1554399668389,
     "user": {
      "displayName": "Marie Imokoyende",
      "photoUrl": "",
      "userId": "13592623342127678396"
     },
     "user_tz": 240
    },
    "id": "HSLYfAkma2Kt",
    "outputId": "522bbd8e-5781-4195-cbf7-e059d6a65d2f"
   },
   "outputs": [],
   "source": [
    "stock_index_df.plot(figsize=(15,8))"
   ]
  },
  {
   "cell_type": "markdown",
   "metadata": {
    "colab_type": "text",
    "id": "rQBSGteliOyu"
   },
   "source": [
    "## Let's compare our index with the futures contract time series"
   ]
  },
  {
   "cell_type": "markdown",
   "metadata": {
    "colab_type": "text",
    "id": "k3kX0DIiiZBT"
   },
   "source": [
    "### Get the futures data"
   ]
  },
  {
   "cell_type": "code",
   "execution_count": null,
   "metadata": {
    "colab": {},
    "colab_type": "code",
    "id": "6oWmivkAbPnE"
   },
   "outputs": [],
   "source": [
    "futures_data = pd.read_excel(PATH_FILES + '/futures_data_frontMonth.xlsx', index_col = 0)\n",
    "futures_data.index = pd.to_datetime(futures_data.index) #Convert the index to a datetime index\n",
    "futures_data.sort_index(inplace = True)\n",
    "\n",
    "# Only keep values that are also in stock_data dataframe and drop NaN values\n",
    "futures_data_stock_data = futures_data.loc[futures_data.index.isin(stock_data.index)].dropna()\n",
    "# We further drop all rows with 0\n",
    "futures_data = futures_data_stock_data[(futures_data_stock_data != 0)]"
   ]
  },
  {
   "cell_type": "code",
   "execution_count": null,
   "metadata": {
    "colab": {},
    "colab_type": "code",
    "id": "aa1ST5ArcRq8"
   },
   "outputs": [],
   "source": [
    "#Then, we update the myIndex dataframe to make it have the same index as in the \"Commodities\" dataframe created above\n",
    "stock_index_df = stock_index_df[stock_index_df.index.isin(futures_data.index)]"
   ]
  },
  {
   "cell_type": "code",
   "execution_count": null,
   "metadata": {
    "colab": {},
    "colab_type": "code",
    "id": "xxSZCF5qchBS"
   },
   "outputs": [],
   "source": [
    "futures_data_stock_data_pct_change = futures_data_stock_data.pct_change()\n",
    "futures_data_stock_data_pct_change.dropna(inplace = True)"
   ]
  },
  {
   "cell_type": "code",
   "execution_count": null,
   "metadata": {
    "colab": {
     "base_uri": "https://localhost:8080/",
     "height": 235
    },
    "colab_type": "code",
    "executionInfo": {
     "elapsed": 621,
     "status": "ok",
     "timestamp": 1554400362381,
     "user": {
      "displayName": "Marie Imokoyende",
      "photoUrl": "",
      "userId": "13592623342127678396"
     },
     "user_tz": 240
    },
    "id": "K4SHVBM7d2xx",
    "outputId": "7cae5538-da10-4167-ba92-e37bc4d3393f"
   },
   "outputs": [],
   "source": [
    "futures_data_stock_data_pct_change.head()"
   ]
  },
  {
   "cell_type": "markdown",
   "metadata": {
    "colab_type": "text",
    "id": "Rmr95nbwict8"
   },
   "source": [
    "### Scale the time series to the index such that futures_theoretical[0] = stock_index[0] = 100"
   ]
  },
  {
   "cell_type": "code",
   "execution_count": null,
   "metadata": {
    "colab": {},
    "colab_type": "code",
    "id": "PylB23cTdG3g"
   },
   "outputs": [],
   "source": [
    "futures_theoretical = np.zeros(len(stock_index_df))\n",
    "futures_theoretical[0] = stock_index_df.iloc[0]\n",
    "for i in range(len(futures_theoretical)-1):\n",
    "  futures_theoretical[i+1] = (1+futures_data_stock_data_pct_change.iloc[i])*futures_theoretical[i]"
   ]
  },
  {
   "cell_type": "code",
   "execution_count": null,
   "metadata": {
    "colab": {},
    "colab_type": "code",
    "id": "C62pSsoYdo0Q"
   },
   "outputs": [],
   "source": [
    "stock_index_df['Futures'] = futures_theoretical"
   ]
  },
  {
   "cell_type": "code",
   "execution_count": null,
   "metadata": {
    "colab": {
     "base_uri": "https://localhost:8080/",
     "height": 204
    },
    "colab_type": "code",
    "executionInfo": {
     "elapsed": 551,
     "status": "ok",
     "timestamp": 1554400468026,
     "user": {
      "displayName": "Marie Imokoyende",
      "photoUrl": "",
      "userId": "13592623342127678396"
     },
     "user_tz": 240
    },
    "id": "gaf9N32yfLki",
    "outputId": "9b21d349-ec9f-430d-aad3-f6b5ce9c89c0"
   },
   "outputs": [],
   "source": [
    "stock_index_df.head()"
   ]
  },
  {
   "cell_type": "markdown",
   "metadata": {
    "colab_type": "text",
    "id": "FskG9rYYlfxN"
   },
   "source": [
    "### Plot the Futures index and the stock_index we created"
   ]
  },
  {
   "cell_type": "code",
   "execution_count": null,
   "metadata": {
    "colab": {
     "base_uri": "https://localhost:8080/",
     "height": 474
    },
    "colab_type": "code",
    "executionInfo": {
     "elapsed": 1006,
     "status": "ok",
     "timestamp": 1554400491249,
     "user": {
      "displayName": "Marie Imokoyende",
      "photoUrl": "",
      "userId": "13592623342127678396"
     },
     "user_tz": 240
    },
    "id": "NIRBQvZ-fNi4",
    "outputId": "6971e736-c706-4478-a692-e9bef208b2e9"
   },
   "outputs": [],
   "source": [
    "stock_index_df.plot(figsize=(15,8))"
   ]
  },
  {
   "cell_type": "markdown",
   "metadata": {
    "colab_type": "text",
    "id": "L0xHhGiIkcGa"
   },
   "source": [
    "# Conclusion"
   ]
  },
  {
   "cell_type": "markdown",
   "metadata": {
    "colab_type": "text",
    "id": "Y5GkxwG3hvkQ"
   },
   "source": [
    "Our index has mostly the same trend as the reference futures data except for the second half of 2018. Because we use anonymized data, we did not filter the stocks for outliers and market capitalization limits. Furthermore there was no re-balancing throughout the two time periods observed and we ignored distributions.\n",
    "\n",
    "\n",
    "We believe that the use of variational autoencoders to construct an index can speed up the development of new indices in a stock market for which analysts may not be familiar with. Furthermore, it could help create even more niche indices to be used by ETFs or even new creative investment possibilities for direct indexing firms worldwide."
   ]
  }
 ],
 "metadata": {
  "accelerator": "GPU",
  "colab": {
   "name": "3546 Deep Learning Project - VAE & Index Construction.ipynb",
   "provenance": [],
   "version": "0.3.2"
  },
  "kernelspec": {
   "display_name": "Python 3",
   "language": "python",
   "name": "python3"
  },
  "language_info": {
   "codemirror_mode": {
    "name": "ipython",
    "version": 3
   },
   "file_extension": ".py",
   "mimetype": "text/x-python",
   "name": "python",
   "nbconvert_exporter": "python",
   "pygments_lexer": "ipython3",
   "version": "3.6.7"
  },
  "toc": {
   "base_numbering": 1,
   "nav_menu": {},
   "number_sections": true,
   "sideBar": true,
   "skip_h1_title": false,
   "title_cell": "Table of Contents",
   "title_sidebar": "Contents",
   "toc_cell": false,
   "toc_position": {},
   "toc_section_display": true,
   "toc_window_display": false
  }
 },
 "nbformat": 4,
 "nbformat_minor": 1
}
